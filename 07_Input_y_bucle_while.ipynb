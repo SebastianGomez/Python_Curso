{
 "cells": [
  {
   "cell_type": "markdown",
   "metadata": {},
   "source": [
    "# Input"
   ]
  },
  {
   "cell_type": "code",
   "execution_count": 1,
   "metadata": {},
   "outputs": [
    {
     "name": "stdout",
     "output_type": "stream",
     "text": [
      "el perro ladra\n"
     ]
    }
   ],
   "source": [
    "frase = input(\"Ingrese una frase:\")\n",
    "print(frase)"
   ]
  },
  {
   "cell_type": "code",
   "execution_count": 1,
   "metadata": {},
   "outputs": [
    {
     "name": "stdout",
     "output_type": "stream",
     "text": [
      "Hola Seba\n"
     ]
    }
   ],
   "source": [
    "#Pasar texto a un input\n",
    "\n",
    "prompt = \"Si compartes tu nombre, podemos personalizar los mensajes que ves.\"\n",
    "prompt += \"\\n¿Cual es tu nombre?: \"\n",
    "\n",
    "nombre = input(prompt)\n",
    "print(f\"Hola {nombre.title()}\")"
   ]
  },
  {
   "cell_type": "code",
   "execution_count": 10,
   "metadata": {},
   "outputs": [
    {
     "name": "stdout",
     "output_type": "stream",
     "text": [
      "Eres menor de edad\n"
     ]
    }
   ],
   "source": [
    "# convertir un input a un entero\n",
    "\n",
    "edad = int(input(\"Ingrese un numero entero: \"))\n",
    "\n",
    "if edad >= 18:\n",
    "    print(\"Eres mayor de edad\")\n",
    "else:\n",
    "    print(\"Eres menor de edad\") "
   ]
  },
  {
   "cell_type": "markdown",
   "metadata": {},
   "source": [
    "# Bucle While"
   ]
  },
  {
   "cell_type": "code",
   "execution_count": 1,
   "metadata": {},
   "outputs": [
    {
     "name": "stdout",
     "output_type": "stream",
     "text": [
      "1\n",
      "2\n",
      "3\n",
      "4\n",
      "5\n"
     ]
    }
   ],
   "source": [
    "# Este bucle se ejecuta hasta que se cumpla una determinada condicion\n",
    "\n",
    "for n in range(1,6):\n",
    "    print(n)"
   ]
  },
  {
   "cell_type": "code",
   "execution_count": 2,
   "metadata": {},
   "outputs": [
    {
     "name": "stdout",
     "output_type": "stream",
     "text": [
      "1\n",
      "2\n",
      "3\n",
      "4\n",
      "5\n"
     ]
    }
   ],
   "source": [
    "# Podemos hacer lo mismo utilizando un bucle while\n",
    "x = 1\n",
    "while x<6:\n",
    "    print(x)\n",
    "    x=x+1"
   ]
  },
  {
   "cell_type": "code",
   "execution_count": 6,
   "metadata": {},
   "outputs": [
    {
     "name": "stdout",
     "output_type": "stream",
     "text": [
      "seba\n",
      "jose\n",
      "paula\n",
      "paula\n",
      "finalizar\n"
     ]
    }
   ],
   "source": [
    "# Configurando la forma de salir del bucle while\n",
    "prompt = \"Escribe algo y lo repetire: \"\n",
    "prompt += \"\\nPara salir escriba 'finalizar'\"\n",
    "\n",
    "texto = \"\"\n",
    "\n",
    "while texto!=\"finalizar\":\n",
    "    texto = input(prompt)\n",
    "    print(texto)\n",
    "\n",
    "\n"
   ]
  },
  {
   "cell_type": "code",
   "execution_count": 7,
   "metadata": {},
   "outputs": [
    {
     "name": "stdout",
     "output_type": "stream",
     "text": [
      "emi\n",
      "emi\n",
      "pau\n",
      "xime\n"
     ]
    }
   ],
   "source": [
    "# este programa muestra la palabra finalizar. Podemos solucionar esto con \n",
    "# un if\n",
    "\n",
    "prompt = \"Escribe algo y lo repetire: \"\n",
    "prompt += \"\\nPara salir escriba 'finalizar'\"\n",
    "\n",
    "texto = \"\"\n",
    "\n",
    "while texto!=\"finalizar\":\n",
    "    texto = input(prompt)\n",
    "    if texto != \"finalizar\":\n",
    "        print(texto)"
   ]
  },
  {
   "cell_type": "markdown",
   "metadata": {},
   "source": [
    "### Uso de banderas"
   ]
  },
  {
   "cell_type": "code",
   "execution_count": 1,
   "metadata": {},
   "outputs": [
    {
     "name": "stdout",
     "output_type": "stream",
     "text": [
      "seba\n",
      "paula\n",
      "emi\n"
     ]
    }
   ],
   "source": [
    "prompt = \"Escribe algo y lo repetire: \"\n",
    "prompt += \"\\nPara salir escriba 'finalizar'\"\n",
    "\n",
    "texto = \"\"\n",
    "flag = True\n",
    "\n",
    "# en un programa grande esta bandera puede cumplir multiplos requisitos\n",
    "\n",
    "while flag:\n",
    "    texto = input(prompt)\n",
    "\n",
    "    if texto == \"finalizar\":\n",
    "        flag = False\n",
    "    else:\n",
    "        print(texto)\n",
    "    \n"
   ]
  },
  {
   "cell_type": "markdown",
   "metadata": {},
   "source": [
    "### Uso de la instruccion Break"
   ]
  },
  {
   "cell_type": "code",
   "execution_count": 2,
   "metadata": {},
   "outputs": [
    {
     "name": "stdout",
     "output_type": "stream",
     "text": [
      "seba\n",
      "emi\n",
      "pau\n",
      "emi\n",
      "xime\n",
      "euge\n"
     ]
    }
   ],
   "source": [
    "prompt = \"Escribe algo y lo repetire: \"\n",
    "prompt += \"\\nPara salir escriba 'finalizar'\"\n",
    "\n",
    "\n",
    "\n",
    "while True:  #ejecuta un bucle infinito hasta encontrar un break\n",
    "    texto = input(prompt)\n",
    "\n",
    "    if texto == \"finalizar\":\n",
    "        break  # detiene la ejecucion del bucle\n",
    "    else:\n",
    "        print(texto)"
   ]
  },
  {
   "cell_type": "markdown",
   "metadata": {},
   "source": [
    "### Uso de la instruccion continue"
   ]
  },
  {
   "cell_type": "code",
   "execution_count": 3,
   "metadata": {},
   "outputs": [
    {
     "name": "stdout",
     "output_type": "stream",
     "text": [
      "1\n",
      "3\n",
      "5\n",
      "7\n",
      "9\n"
     ]
    }
   ],
   "source": [
    "# A diferencia de la intrucion break, la instruccion continue no avandona el\n",
    "# bucle, sino que lo reinicia, omitiendo el codigo que sigue\n",
    "\n",
    "# Imprime solo los numeros impares del 1 al 10\n",
    "\n",
    "num = 0\n",
    "\n",
    "while num < 10:\n",
    "    num += 1\n",
    "    if num %2 == 0:\n",
    "        continue\n",
    "    print(num)\n"
   ]
  },
  {
   "cell_type": "markdown",
   "metadata": {},
   "source": [
    "### Uso del bucle while con listas y diccionarios"
   ]
  },
  {
   "cell_type": "code",
   "execution_count": 2,
   "metadata": {},
   "outputs": [
    {
     "name": "stdout",
     "output_type": "stream",
     "text": [
      "Verificacion de usuario: Marta\n",
      "Verificacion de usuario: Laura\n",
      "Verificacion de usuario: Maria\n",
      "Verificacion de usuario: Pedro\n",
      "[]\n",
      "['Marta', 'Laura', 'Maria', 'Pedro']\n"
     ]
    }
   ],
   "source": [
    "# Mover elementos de una lista a otra\n",
    "usuarios = [\"Pedro\",\"Maria\",\"Laura\",\"Marta\"]\n",
    "usuarios_verificados = []\n",
    "\n",
    "# El bucle escrito de esta forma se ejecutara mientras usuarios no este vacia\n",
    "\n",
    "while usuarios:\n",
    "    usuario_actual = usuarios.pop()\n",
    "    print(f\"Verificacion de usuario: {usuario_actual.title()}\")\n",
    "    usuarios_verificados.append(usuario_actual)\n",
    "\n",
    "#verificacion\n",
    "print(usuarios)\n",
    "print(usuarios_verificados)\n"
   ]
  },
  {
   "cell_type": "code",
   "execution_count": 3,
   "metadata": {},
   "outputs": [
    {
     "name": "stdout",
     "output_type": "stream",
     "text": [
      "['perro', 'gato', 'pez', 'gato', 'loro', 'vaca', 'oveja', 'gato']\n",
      "['perro', 'pez', 'loro', 'vaca', 'oveja']\n"
     ]
    }
   ],
   "source": [
    "# Eliminando todas las instancias de valores especificos de una lista\n",
    "\n",
    "mascotas = [\"perro\",\"gato\",\"pez\",\"gato\",\"loro\",\"vaca\",\"oveja\",\"gato\"]\n",
    "print(mascotas)\n",
    "\n",
    "while \"gato\" in mascotas:\n",
    "    mascotas.remove(\"gato\")\n",
    "\n",
    "print(mascotas)\n",
    "\n"
   ]
  },
  {
   "cell_type": "code",
   "execution_count": 6,
   "metadata": {},
   "outputs": [
    {
     "name": "stdout",
     "output_type": "stream",
     "text": [
      "A seba le gustaria conocer italia\n",
      "A emi le gustaria conocer españa\n",
      "A juan le gustaria conocer Portugal\n"
     ]
    }
   ],
   "source": [
    "# Llenar un diccionario con la entrada del usuario\n",
    "\n",
    "respuestas = {}\n",
    "\n",
    "estado = True\n",
    "\n",
    "while estado:\n",
    "    nombre = input(\"Cual es tu nombre: \")\n",
    "    respuesta = input(\"¿Que lugar te custaria conocer?: \")\n",
    "\n",
    "    #almacena la respuesta en el diccionario\n",
    "\n",
    "    respuestas[nombre] = respuesta\n",
    "\n",
    "    # Averigüe si alguien más va a participar en la encuesta.\n",
    "\n",
    "    repeticion = input(\"¿Te gustaría dejar que otra persona responda? (Si/No ):\")\n",
    "    \n",
    "    if repeticion == \"No\":\n",
    "        estado = False\n",
    "    \n",
    "for nom,resp in respuestas.items():\n",
    "    print(f\"A {nom} le gustaria conocer {resp}\")\n",
    "\n",
    "\n"
   ]
  }
 ],
 "metadata": {
  "kernelspec": {
   "display_name": "Python 3",
   "language": "python",
   "name": "python3"
  },
  "language_info": {
   "codemirror_mode": {
    "name": "ipython",
    "version": 3
   },
   "file_extension": ".py",
   "mimetype": "text/x-python",
   "name": "python",
   "nbconvert_exporter": "python",
   "pygments_lexer": "ipython3",
   "version": "3.12.0"
  }
 },
 "nbformat": 4,
 "nbformat_minor": 2
}

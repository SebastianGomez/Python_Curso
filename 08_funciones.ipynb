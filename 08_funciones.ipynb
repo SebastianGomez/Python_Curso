{
 "cells": [
  {
   "cell_type": "markdown",
   "metadata": {},
   "source": [
    "# Funciones"
   ]
  },
  {
   "cell_type": "markdown",
   "metadata": {},
   "source": [
    "### Definicion de una funcion"
   ]
  },
  {
   "cell_type": "code",
   "execution_count": 3,
   "metadata": {},
   "outputs": [
    {
     "name": "stdout",
     "output_type": "stream",
     "text": [
      "Hola Mundo\n"
     ]
    }
   ],
   "source": [
    "\n",
    "def saludo():  #def palabra clave que indica a python que se esta definiendo \n",
    "    # una funcion\n",
    "    \"\"\"Esto es un docsting, se utiliza para documentar la funcion\"\"\"\n",
    "    print(\"Hola Mundo\") # cuerpo de una funcion\n",
    "\n",
    "saludo()  #llamado de la funcion\n"
   ]
  },
  {
   "cell_type": "markdown",
   "metadata": {},
   "source": [
    "### Pasar informacion a una funcion"
   ]
  },
  {
   "cell_type": "code",
   "execution_count": 6,
   "metadata": {},
   "outputs": [
    {
     "name": "stdout",
     "output_type": "stream",
     "text": [
      "Hola Dakota, hoy sera un gran dia\n"
     ]
    }
   ],
   "source": [
    "def saludo(nombre): # nombre es el argumento de la funcion  \n",
    "    \n",
    "    \"\"\"Esta funcion recibe un nombre antes de mostrarlo por pantalla \"\"\"\n",
    "    print(f\"Hola {nombre}, hoy sera un gran dia\") # cuerpo de una funcion\n",
    "\n",
    "saludo(\"Dakota\")  #llamado de la funcion\n",
    "#dakota es el paremtro que se le pasa a la funcion"
   ]
  },
  {
   "cell_type": "markdown",
   "metadata": {},
   "source": [
    "# Pasar argumentos"
   ]
  },
  {
   "cell_type": "markdown",
   "metadata": {},
   "source": [
    "### Argumentos posicionales"
   ]
  },
  {
   "cell_type": "code",
   "execution_count": 9,
   "metadata": {},
   "outputs": [
    {
     "name": "stdout",
     "output_type": "stream",
     "text": [
      "La mascota Dakota es un Perro\n"
     ]
    }
   ],
   "source": [
    "# la funcion lee los argumentos en el orden que se envian\n",
    "\n",
    "def descripcion_mascota (tipo,nombre):\n",
    "    \"\"\"Muestra informacion de la mascota\"\"\"\n",
    "    print(f\"La mascota {nombre} es un {tipo}\")\n",
    "\n",
    "descripcion_mascota(\"Perro\",\"Dakota\")\n"
   ]
  },
  {
   "cell_type": "markdown",
   "metadata": {},
   "source": [
    "### Argumentos de palabra clave"
   ]
  },
  {
   "cell_type": "code",
   "execution_count": 10,
   "metadata": {},
   "outputs": [
    {
     "name": "stdout",
     "output_type": "stream",
     "text": [
      "La mascota Dakota es un Perro\n"
     ]
    }
   ],
   "source": [
    "#evitan tener que preocuparnos por el orden en que se pasan argumentos a la funcion\n",
    "\n",
    "def descripcion_mascota (nombre,tipo):\n",
    "    \"\"\"Muestra informacion de la mascota\"\"\"\n",
    "    print(f\"La mascota {nombre} es un {tipo}\")\n",
    "\n",
    "descripcion_mascota(tipo = \"Perro\",nombre = \"Dakota\")"
   ]
  },
  {
   "cell_type": "code",
   "execution_count": 11,
   "metadata": {},
   "outputs": [
    {
     "name": "stdout",
     "output_type": "stream",
     "text": [
      "La mascota Dakota es un Gato\n",
      "La mascota Matilde es un Perro\n"
     ]
    }
   ],
   "source": [
    "# Valor por default\n",
    "# se puede definir un valor por default para cada parametro\n",
    "\n",
    "def descripcion_mascota (tipo = \"Perro\",nombre = \"Matilde\"):\n",
    "    \"\"\"Muestra informacion de la mascota\"\"\"\n",
    "    print(f\"La mascota {nombre} es un {tipo}\")\n",
    "\n",
    "descripcion_mascota(\"Gato\",\"Dakota\")\n",
    "descripcion_mascota()\n"
   ]
  },
  {
   "cell_type": "markdown",
   "metadata": {},
   "source": [
    "### Valores devueltos"
   ]
  },
  {
   "cell_type": "code",
   "execution_count": 3,
   "metadata": {},
   "outputs": [
    {
     "name": "stdout",
     "output_type": "stream",
     "text": [
      "Juan Perez\n"
     ]
    }
   ],
   "source": [
    "# Devolver un valor simple\n",
    "\n",
    "def nombre_completo(nombre,apellido):\n",
    "    nombre = f\"{nombre} {apellido}\"\n",
    "    return(nombre.title())\n",
    "\n",
    "nombre = nombre_completo(\"juan\",\"perez\")\n",
    "print(nombre)\n",
    "\n",
    "    "
   ]
  },
  {
   "cell_type": "code",
   "execution_count": 5,
   "metadata": {},
   "outputs": [
    {
     "name": "stdout",
     "output_type": "stream",
     "text": [
      "Juan Perez\n",
      "Juan David Perez\n"
     ]
    }
   ],
   "source": [
    "# Hacer que un argumento sea opcional\n",
    "\n",
    "def nombre_completo(nombre,apellido,segundo_nombre=\"\"):\n",
    "    if segundo_nombre:\n",
    "        nombre = f\"{nombre} {segundo_nombre} {apellido}\"\n",
    "        return(nombre.title())\n",
    "    else:\n",
    "        nombre = f\"{nombre} {apellido}\"\n",
    "        return(nombre.title())\n",
    "\n",
    "nombre = nombre_completo(\"juan\",\"perez\")\n",
    "print(nombre)\n",
    "nombre = nombre_completo(\"juan\",\"perez\",\"david\")\n",
    "print(nombre)"
   ]
  },
  {
   "cell_type": "code",
   "execution_count": 6,
   "metadata": {},
   "outputs": [
    {
     "name": "stdout",
     "output_type": "stream",
     "text": [
      "{'Nombre': 'Juan', 'Apellido': 'Perez'}\n"
     ]
    }
   ],
   "source": [
    "# Retornando un diccionario\n",
    "\n",
    "def nombre_completo(name,last_name):\n",
    "    nombre = {\"Nombre\":name.title(),\"Apellido\":last_name.title()}\n",
    "    return(nombre)\n",
    "nombre = nombre_completo(\"juan\",\"perez\")\n",
    "print(nombre)\n"
   ]
  },
  {
   "cell_type": "code",
   "execution_count": 8,
   "metadata": {},
   "outputs": [
    {
     "name": "stdout",
     "output_type": "stream",
     "text": [
      "{'Nombre': 'Juan', 'Apellido': 'Perez'}\n",
      "{'Nombre': 'Juan', 'Apellido': 'Perez', 'Edad': 27}\n"
     ]
    }
   ],
   "source": [
    "# Agregamos un parametro adicional\n",
    "\n",
    "def nombre_completo(name,last_name,edad = None):\n",
    "    nombre = {\"Nombre\":name.title(),\"Apellido\":last_name.title()}\n",
    "    if edad:\n",
    "        nombre[\"Edad\"] = edad\n",
    "    return(nombre)\n",
    "\n",
    "nombre = nombre_completo(\"juan\",\"perez\")\n",
    "print(nombre)\n",
    "\n",
    "nombre = nombre_completo(\"juan\",\"perez\",27)\n",
    "print(nombre)"
   ]
  },
  {
   "cell_type": "code",
   "execution_count": 12,
   "metadata": {},
   "outputs": [
    {
     "name": "stdout",
     "output_type": "stream",
     "text": [
      "Ingrese sus datos, presione q para salir \n",
      "Hola Seba Gomez\n",
      "Ingrese sus datos, presione q para salir \n",
      "Hola Emi Rodriguez\n",
      "Ingrese sus datos, presione q para salir \n"
     ]
    }
   ],
   "source": [
    "# Uso de una función con un bucle while\n",
    "\n",
    "def nombre_completo(name,last_name):\n",
    "    nombre = f\"{name} {last_name}\"\n",
    "    return(nombre.title())\n",
    "\n",
    "\n",
    "while True:\n",
    "    print(\"Ingrese sus datos, presione q para salir \")\n",
    "    nombre = input(\"Nombre:\")\n",
    "    if nombre==\"q\":\n",
    "        break\n",
    "        \n",
    "    apellido = input(\"Apellido:\")\n",
    "    if apellido==\"q\":\n",
    "        break\n",
    "    nombre_formateado = nombre_completo(nombre,apellido)\n",
    "    print(f\"Hola {nombre_formateado}\")\n",
    "   "
   ]
  },
  {
   "cell_type": "markdown",
   "metadata": {},
   "source": [
    "### Pasar una lista"
   ]
  },
  {
   "cell_type": "code",
   "execution_count": 3,
   "metadata": {},
   "outputs": [
    {
     "name": "stdout",
     "output_type": "stream",
     "text": [
      "Hola Pedro, ¿como estas?\n",
      "Hola Juan, ¿como estas?\n",
      "Hola Laura, ¿como estas?\n",
      "Hola Emilia, ¿como estas?\n",
      "['Pedro', 'Juan', 'Laura', 'Emilia']\n"
     ]
    }
   ],
   "source": [
    "def saludos(nombres):\n",
    "    \"\"\"Genera un saludo de manera automatica\"\"\"\n",
    "    for nombre in nombres:\n",
    "        print(f\"Hola {nombre}, ¿como estas?\")\n",
    "\n",
    "    \n",
    "\n",
    "nombres = [\"Pedro\",\"Juan\",\"Laura\",\"Emilia\"]\n",
    "saludos(nombres)\n",
    "\n"
   ]
  },
  {
   "cell_type": "code",
   "execution_count": 4,
   "metadata": {},
   "outputs": [
    {
     "name": "stdout",
     "output_type": "stream",
     "text": [
      "Modelo actual: barco\n",
      "Modelo actual: avion\n",
      "Modelo actual: nave\n",
      "Modelo actual: auto\n",
      "barco\n",
      "avion\n",
      "nave\n",
      "auto\n"
     ]
    }
   ],
   "source": [
    "# modificando una lista en una funcion\n",
    "# Cuando se modifica una lista desde una funcion, se modifica la lista original\n",
    "\n",
    "modelos_a_imprimir = [\"auto\",\"nave\",\"avion\",\"barco\"]\n",
    "modelos_terminados = []\n",
    "\n",
    "while modelos_a_imprimir:\n",
    "    impresion_actual = modelos_a_imprimir.pop()\n",
    "    print(f\"Modelo actual: {impresion_actual}\")\n",
    "    modelos_terminados.append(impresion_actual)\n",
    "\n",
    "#revisamos los modelos terminados\n",
    "for terminados in modelos_terminados:\n",
    "    print(terminados)\n",
    "    "
   ]
  },
  {
   "cell_type": "code",
   "execution_count": 5,
   "metadata": {},
   "outputs": [
    {
     "name": "stdout",
     "output_type": "stream",
     "text": [
      "Modelo actual: barco\n",
      "Modelo actual: avion\n",
      "Modelo actual: nave\n",
      "Modelo actual: auto\n",
      "Se terminaron de imprimir los modelos solicitados\n",
      "barco\n",
      "avion\n",
      "nave\n",
      "auto\n"
     ]
    }
   ],
   "source": [
    "# vamos a modificar el programa anterior para que trabaje de manera mas estructurada\n",
    "\n",
    "def imprimir_modelos(modelos_a_imprimir,modelos_terminados):\n",
    "    while modelos_a_imprimir:\n",
    "        impresion_actual = modelos_a_imprimir.pop()\n",
    "        print(f\"Modelo actual: {impresion_actual}\")\n",
    "        modelos_terminados.append(impresion_actual)\n",
    "\n",
    "def terminados(modelos_terminados):\n",
    "    print(\"Se terminaron de imprimir los modelos solicitados\")\n",
    "    for finalizados in modelos_terminados:\n",
    "        print(finalizados)\n",
    "\n",
    "\n",
    "modelos_a_imprimir = [\"auto\",\"nave\",\"avion\",\"barco\"]\n",
    "modelos_terminados = []\n",
    "\n",
    "imprimir_modelos(modelos_a_imprimir,modelos_terminados)\n",
    "terminados(modelos_terminados)"
   ]
  },
  {
   "cell_type": "code",
   "execution_count": 6,
   "metadata": {},
   "outputs": [
    {
     "name": "stdout",
     "output_type": "stream",
     "text": [
      "Modelo actual: barco\n",
      "Modelo actual: avion\n",
      "Modelo actual: nave\n",
      "Modelo actual: auto\n",
      "Se terminaron de imprimir los modelos solicitados\n",
      "barco\n",
      "avion\n",
      "nave\n",
      "auto\n",
      "['auto', 'nave', 'avion', 'barco']\n"
     ]
    }
   ],
   "source": [
    "# Impedir que una función modifique una lista\n",
    "\n",
    "def imprimir_modelos(modelos_a_imprimir,modelos_terminados):\n",
    "    while modelos_a_imprimir:\n",
    "        impresion_actual = modelos_a_imprimir.pop()\n",
    "        print(f\"Modelo actual: {impresion_actual}\")\n",
    "        modelos_terminados.append(impresion_actual)\n",
    "\n",
    "def terminados(modelos_terminados):\n",
    "    print(\"Se terminaron de imprimir los modelos solicitados\")\n",
    "    for finalizados in modelos_terminados:\n",
    "        print(finalizados)\n",
    "\n",
    "\n",
    "modelos_a_imprimir = [\"auto\",\"nave\",\"avion\",\"barco\"]\n",
    "modelos_terminados = []\n",
    "\n",
    "imprimir_modelos(modelos_a_imprimir[:],modelos_terminados)\n",
    "# [:] hace que no se pueda modificar la lista original\n",
    "\n",
    "\n",
    "terminados(modelos_terminados)\n",
    "print(modelos_a_imprimir)"
   ]
  }
 ],
 "metadata": {
  "kernelspec": {
   "display_name": "Python 3",
   "language": "python",
   "name": "python3"
  },
  "language_info": {
   "codemirror_mode": {
    "name": "ipython",
    "version": 3
   },
   "file_extension": ".py",
   "mimetype": "text/x-python",
   "name": "python",
   "nbconvert_exporter": "python",
   "pygments_lexer": "ipython3",
   "version": "3.12.0"
  }
 },
 "nbformat": 4,
 "nbformat_minor": 2
}

{
 "cells": [
  {
   "cell_type": "code",
   "execution_count": 2,
   "metadata": {},
   "outputs": [
    {
     "name": "stdout",
     "output_type": "stream",
     "text": [
      "5.0\n",
      "8.0\n"
     ]
    }
   ],
   "source": [
    "# Area de un triangulo\n",
    "\n",
    "def area_triangulo(altura,base):\n",
    "    area = (altura*base)/2\n",
    "\n",
    "    return(area)\n",
    "\n",
    "triangulo1 = area_triangulo(5,2)\n",
    "triangulo2 = area_triangulo(4,4)\n",
    "\n",
    "print(triangulo1)\n",
    "print(triangulo2)"
   ]
  },
  {
   "cell_type": "code",
   "execution_count": 3,
   "metadata": {},
   "outputs": [
    {
     "name": "stdout",
     "output_type": "stream",
     "text": [
      "5.0\n",
      "8.0\n"
     ]
    }
   ],
   "source": [
    "# Hacemos lo mismo con una funcion lambda\n",
    "\n",
    "area_triangulo = lambda altura,base:(altura*base)/2\n",
    "\n",
    "triangulo1 = area_triangulo(5,2)\n",
    "triangulo2 = area_triangulo(4,4)\n",
    "\n",
    "print(triangulo1)\n",
    "print(triangulo2)"
   ]
  },
  {
   "cell_type": "code",
   "execution_count": 4,
   "metadata": {},
   "outputs": [
    {
     "name": "stdout",
     "output_type": "stream",
     "text": [
      "8\n"
     ]
    }
   ],
   "source": [
    "# otro ejemplo\n",
    "\n",
    "cubo = lambda numero:numero**3\n",
    "\n",
    "print(cubo(2))\n"
   ]
  },
  {
   "cell_type": "code",
   "execution_count": 6,
   "metadata": {},
   "outputs": [
    {
     "data": {
      "text/plain": [
       "'Te llamas Seba'"
      ]
     },
     "execution_count": 6,
     "metadata": {},
     "output_type": "execute_result"
    }
   ],
   "source": [
    "# se puede utilizar para dar formato\n",
    "\n",
    "titulo = lambda nombre: f\"Te llamas {nombre.title()}\"\n",
    "\n",
    "titulo(\"seba\")"
   ]
  },
  {
   "cell_type": "code",
   "execution_count": 20,
   "metadata": {},
   "outputs": [
    {
     "name": "stdout",
     "output_type": "stream",
     "text": [
      "El resultado de las 3 operaciones es : 4, 0 y 4\n"
     ]
    }
   ],
   "source": [
    "def suma(num1,num2):\n",
    "\n",
    "    suma = num1 + num2\n",
    "    return(suma)\n",
    "    \n",
    "def resta(num1,num2):\n",
    "    resta = num1 - num2\n",
    "    return(resta)\n",
    "\n",
    "def producto(num1,num2):\n",
    "    producto = num1 * num2\n",
    "    return(producto)\n",
    "    \n",
    "def calculadora (num1,num2):\n",
    "    \n",
    "    \n",
    "    res1 = suma(num1,num2)\n",
    "    res2 = resta(num1,num2)\n",
    "    res3 = producto(num1,num2)\n",
    "\n",
    "    return f\"El resultado de las 3 operaciones es : {res1}, {res2} y {res3}\"\n",
    "    \n",
    "        \n",
    "print(calculadora(2,2))\n"
   ]
  },
  {
   "cell_type": "code",
   "execution_count": 29,
   "metadata": {},
   "outputs": [
    {
     "name": "stdout",
     "output_type": "stream",
     "text": [
      "(4, 0, 4)\n"
     ]
    }
   ],
   "source": [
    "suma = lambda num1,num2 : num1 + num2 \n",
    "    \n",
    "resta = lambda num1,num2 : num1 - num2\n",
    "\n",
    "producto = lambda num1,num2 : num1 * num2    \n",
    "\n",
    "def calculadora (num1,num2): \n",
    "    \n",
    "   \n",
    "    return suma(num1,num2),resta(num1,num2),producto(num1,num2)\n",
    "    \n",
    "        \n",
    "print(calculadora(2,2))\n",
    "\n",
    "\n"
   ]
  }
 ],
 "metadata": {
  "kernelspec": {
   "display_name": "Python 3",
   "language": "python",
   "name": "python3"
  },
  "language_info": {
   "codemirror_mode": {
    "name": "ipython",
    "version": 3
   },
   "file_extension": ".py",
   "mimetype": "text/x-python",
   "name": "python",
   "nbconvert_exporter": "python",
   "pygments_lexer": "ipython3",
   "version": "3.11.9"
  }
 },
 "nbformat": 4,
 "nbformat_minor": 2
}

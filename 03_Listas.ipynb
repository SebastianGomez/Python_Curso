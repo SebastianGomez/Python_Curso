{
 "cells": [
  {
   "cell_type": "markdown",
   "metadata": {},
   "source": [
    "# Recorriendo una lista completa"
   ]
  },
  {
   "cell_type": "code",
   "execution_count": 1,
   "metadata": {},
   "outputs": [
    {
     "name": "stdout",
     "output_type": "stream",
     "text": [
      "galletas\n",
      "huevos\n",
      "leche\n",
      "mate cocido\n",
      "pan\n",
      "queso\n",
      "manzanas\n",
      "carne\n",
      "pescado\n"
     ]
    }
   ],
   "source": [
    "lista_supermercado = ['galletas', 'huevos', 'leche', 'mate cocido', 'pan', 'queso', 'manzanas', 'carne', 'pescado']\n",
    "\n",
    "for producto in lista_supermercado:\n",
    "    print(producto) # Imprime cada producto de la lista\n",
    "\n",
    "# asocia la variable producto con cada elemento de la lista de supermercado"
   ]
  },
  {
   "cell_type": "code",
   "execution_count": 2,
   "metadata": {},
   "outputs": [
    {
     "name": "stdout",
     "output_type": "stream",
     "text": [
      "Fui al supermercado y compre Galletas\n",
      "Fui al supermercado y compre Huevos\n",
      "Fui al supermercado y compre Leche\n",
      "Fui al supermercado y compre Mate Cocido\n",
      "Fui al supermercado y compre Pan\n",
      "Fui al supermercado y compre Queso\n",
      "Fui al supermercado y compre Manzanas\n",
      "Fui al supermercado y compre Carne\n",
      "Fui al supermercado y compre Pescado\n"
     ]
    }
   ],
   "source": [
    "#podemos agregar mas acciones dentro del ciclo for\n",
    "lista_supermercado = ['galletas', 'huevos', 'leche', 'mate cocido', 'pan', 'queso', 'manzanas', 'carne', 'pescado']\n",
    "\n",
    "for producto in lista_supermercado:\n",
    "    print(f\"Fui al supermercado y compre {producto.title()}\")\n",
    "    "
   ]
  }
 ],
 "metadata": {
  "kernelspec": {
   "display_name": "Python 3",
   "language": "python",
   "name": "python3"
  },
  "language_info": {
   "codemirror_mode": {
    "name": "ipython",
    "version": 3
   },
   "file_extension": ".py",
   "mimetype": "text/x-python",
   "name": "python",
   "nbconvert_exporter": "python",
   "pygments_lexer": "ipython3",
   "version": "3.10.4"
  }
 },
 "nbformat": 4,
 "nbformat_minor": 2
}

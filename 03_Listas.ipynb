{
 "cells": [
  {
   "cell_type": "markdown",
   "metadata": {},
   "source": [
    "# Recorriendo una lista completa"
   ]
  },
  {
   "cell_type": "code",
   "execution_count": 1,
   "metadata": {},
   "outputs": [
    {
     "name": "stdout",
     "output_type": "stream",
     "text": [
      "galletas\n",
      "huevos\n",
      "leche\n",
      "mate cocido\n",
      "pan\n",
      "queso\n",
      "manzanas\n",
      "carne\n",
      "pescado\n"
     ]
    }
   ],
   "source": [
    "lista_supermercado = ['galletas', 'huevos', 'leche', 'mate cocido', 'pan', 'queso', 'manzanas', 'carne', 'pescado']\n",
    "\n",
    "for producto in lista_supermercado:\n",
    "    print(producto) # Imprime cada producto de la lista\n",
    "\n",
    "# asocia la variable producto con cada elemento de la lista de supermercado"
   ]
  },
  {
   "cell_type": "code",
   "execution_count": 2,
   "metadata": {},
   "outputs": [
    {
     "name": "stdout",
     "output_type": "stream",
     "text": [
      "Fui al supermercado y compre Galletas\n",
      "Fui al supermercado y compre Huevos\n",
      "Fui al supermercado y compre Leche\n",
      "Fui al supermercado y compre Mate Cocido\n",
      "Fui al supermercado y compre Pan\n",
      "Fui al supermercado y compre Queso\n",
      "Fui al supermercado y compre Manzanas\n",
      "Fui al supermercado y compre Carne\n",
      "Fui al supermercado y compre Pescado\n"
     ]
    }
   ],
   "source": [
    "#podemos agregar mas acciones dentro del ciclo for\n",
    "lista_supermercado = ['galletas', 'huevos', 'leche', 'mate cocido', 'pan', 'queso', 'manzanas', 'carne', 'pescado']\n",
    "\n",
    "for producto in lista_supermercado:\n",
    "    print(f\"Fui al supermercado y compre {producto.title()}\")\n",
    "    "
   ]
  },
  {
   "cell_type": "markdown",
   "metadata": {},
   "source": [
    "# Listas Numericas\n"
   ]
  },
  {
   "cell_type": "code",
   "execution_count": 1,
   "metadata": {},
   "outputs": [
    {
     "name": "stdout",
     "output_type": "stream",
     "text": [
      "1\n",
      "2\n",
      "3\n",
      "4\n"
     ]
    }
   ],
   "source": [
    "# Funcion range(star,stop,step).\n",
    "\n",
    "for valor in range(1,5):\n",
    "    print(valor)\n"
   ]
  },
  {
   "cell_type": "code",
   "execution_count": 2,
   "metadata": {},
   "outputs": [
    {
     "name": "stdout",
     "output_type": "stream",
     "text": [
      "[1, 2, 3, 4, 5]\n"
     ]
    }
   ],
   "source": [
    "# Usar range() para crear una lista de numeros, usando la funcion list()\n",
    "numeros = list(range(1,6))\n",
    "print(numeros)\n"
   ]
  },
  {
   "cell_type": "code",
   "execution_count": 5,
   "metadata": {},
   "outputs": [
    {
     "name": "stdout",
     "output_type": "stream",
     "text": [
      "[2, 4, 6, 8, 10]\n"
     ]
    }
   ],
   "source": [
    "numeros_pares = list(range(2,11,2))\n",
    "print(numeros_pares)"
   ]
  },
  {
   "cell_type": "code",
   "execution_count": 1,
   "metadata": {},
   "outputs": [
    {
     "name": "stdout",
     "output_type": "stream",
     "text": [
      "[1, 4, 9, 16, 25, 36, 49, 64, 81, 100]\n"
     ]
    }
   ],
   "source": [
    "cuadrados = []\n",
    "for valor in range(1,11):\n",
    "    cuadrado = valor**2\n",
    "    cuadrados.append(cuadrado)\n",
    "print(cuadrados)"
   ]
  },
  {
   "cell_type": "code",
   "execution_count": 2,
   "metadata": {},
   "outputs": [
    {
     "name": "stdout",
     "output_type": "stream",
     "text": [
      "[1, 4, 9, 16, 25, 36, 49, 64, 81, 100]\n"
     ]
    }
   ],
   "source": [
    "# La expresion anterior pude escribirse de manera mas compacta\n",
    "\n",
    "cuadrados = []\n",
    "for valor in range(1,11):\n",
    "    cuadrados.append(valor**2)\n",
    "print(cuadrados)\n"
   ]
  },
  {
   "cell_type": "markdown",
   "metadata": {},
   "source": [
    "# Estadisticas simples con listas"
   ]
  },
  {
   "cell_type": "code",
   "execution_count": 4,
   "metadata": {},
   "outputs": [
    {
     "name": "stdout",
     "output_type": "stream",
     "text": [
      "0\n",
      "9\n",
      "45\n"
     ]
    }
   ],
   "source": [
    "numero = [1,9,7,3,5,4,2,6,0,8]\n",
    "print(min(numero))\n",
    "print(max(numero))\n",
    "print(sum(numero))\n"
   ]
  },
  {
   "cell_type": "markdown",
   "metadata": {},
   "source": [
    "# Compresion de listas"
   ]
  },
  {
   "cell_type": "code",
   "execution_count": 5,
   "metadata": {},
   "outputs": [
    {
     "name": "stdout",
     "output_type": "stream",
     "text": [
      "[1, 4, 9, 16, 25, 36, 49, 64, 81, 100]\n"
     ]
    }
   ],
   "source": [
    "\"\"\"\n",
    "cuadrados = []\n",
    "for valor in range(1,11):\n",
    "    cuadrados.append(valor**2)\n",
    "print(cuadrados)\n",
    "\"\"\"\n",
    "# Comience con un nombre descriptivo para la lista\n",
    "# Entre corchetes, defina la expresion para la variable que se va a almacenar en la lista\n",
    "# Cree un bucle for para generar los valores que se van a almacenar en la lista\n",
    " \n",
    "cuadrados = [valor**2 for valor in range(1,11)]\n",
    "print(cuadrados)"
   ]
  },
  {
   "cell_type": "markdown",
   "metadata": {},
   "source": [
    "## Trabajando con partes de la lista"
   ]
  },
  {
   "cell_type": "code",
   "execution_count": 4,
   "metadata": {},
   "outputs": [
    {
     "name": "stdout",
     "output_type": "stream",
     "text": [
      "['florence', 'eli', 'tevez']\n",
      "['charles', 'martina', 'michael', 'florence']\n",
      "['florence', 'eli', 'tevez', 'palermo', 'ibarra']\n"
     ]
    }
   ],
   "source": [
    "# Cortar una lista.\n",
    "jugadores = ['charles', 'martina', 'michael', 'florence', 'eli','tevez','palermo','ibarra']\n",
    "print(jugadores[3:6])\n",
    "print(jugadores[:4])\n",
    "print(jugadores[3:])\n",
    "\n",
    "# las posiciones de la lista que se mostraran seran la 3,4 y 5\n"
   ]
  },
  {
   "cell_type": "code",
   "execution_count": 6,
   "metadata": {},
   "outputs": [
    {
     "name": "stdout",
     "output_type": "stream",
     "text": [
      "tevez\n",
      "['charles', 'martina', 'michael', 'florence', 'eli']\n"
     ]
    }
   ],
   "source": [
    "print(jugadores[-3])\n",
    "# Nos da el tercer elemento desde atras\n",
    "print(jugadores[:-3])\n",
    "# Nos da todos los elementos desde la posicion -3 hasta la primera"
   ]
  },
  {
   "cell_type": "code",
   "execution_count": 8,
   "metadata": {},
   "outputs": [
    {
     "name": "stdout",
     "output_type": "stream",
     "text": [
      "Estos son los primeros 4 jugadores de la lista: \n",
      "Charles\n",
      "Martina\n",
      "Michael\n",
      "Florence\n"
     ]
    }
   ],
   "source": [
    "# Recorriendo un segmento\n",
    "jugadores = ['charles', 'martina', 'michael', 'florence', 'eli','tevez','palermo','ibarra']\n",
    "print(\"Estos son los primeros 4 jugadores de la lista: \")\n",
    "\n",
    "for jugador in jugadores[:4]:\n",
    "    print(jugador.title())"
   ]
  },
  {
   "cell_type": "code",
   "execution_count": 10,
   "metadata": {},
   "outputs": [
    {
     "name": "stdout",
     "output_type": "stream",
     "text": [
      "['analis 1', 'analisis 2', 'señales', 'ingles', 'algebra', 'control']\n",
      "['analis 1', 'analisis 2', 'señales', 'ingles', 'algebra', 'control']\n"
     ]
    }
   ],
   "source": [
    "# Copiando un segmento. Siempre se debe indicar un segmento\n",
    "\n",
    "materias_cursadas = [\"analis 1\",\"analisis 2\",\"señales\",\"ingles\",\"algebra\",\"control\"]\n",
    "materias_aprobadas = materias_cursadas[:]\n",
    "print(materias_cursadas)\n",
    "print(materias_aprobadas)\n"
   ]
  },
  {
   "cell_type": "code",
   "execution_count": 11,
   "metadata": {},
   "outputs": [
    {
     "name": "stdout",
     "output_type": "stream",
     "text": [
      "['analis 1', 'analisis 2', 'señales', 'ingles', 'algebra', 'control', 'aplicada']\n"
     ]
    }
   ],
   "source": [
    "# demostraremos que son dos listas distintas\n",
    "materias_cursadas.append(\"aplicada\")\n",
    "print(materias_cursadas)\n"
   ]
  },
  {
   "cell_type": "code",
   "execution_count": 14,
   "metadata": {},
   "outputs": [
    {
     "name": "stdout",
     "output_type": "stream",
     "text": [
      "['analis 1', 'analisis 2', 'señales', 'ingles', 'algebra']\n"
     ]
    }
   ],
   "source": [
    "materias_aprobadas.remove(\"control\")\n",
    "print(materias_aprobadas)"
   ]
  }
 ],
 "metadata": {
  "kernelspec": {
   "display_name": "Python 3",
   "language": "python",
   "name": "python3"
  },
  "language_info": {
   "codemirror_mode": {
    "name": "ipython",
    "version": 3
   },
   "file_extension": ".py",
   "mimetype": "text/x-python",
   "name": "python",
   "nbconvert_exporter": "python",
   "pygments_lexer": "ipython3",
   "version": "3.9.13"
  }
 },
 "nbformat": 4,
 "nbformat_minor": 2
}

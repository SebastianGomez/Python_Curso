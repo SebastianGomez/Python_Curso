{
 "cells": [
  {
   "cell_type": "code",
   "execution_count": 1,
   "metadata": {},
   "outputs": [
    {
     "name": "stdout",
     "output_type": "stream",
     "text": [
      "10\n"
     ]
    }
   ],
   "source": [
    "numero1 = 4\n",
    "numero2 = 6\n",
    "\n",
    "print(numero1 + numero2)\n"
   ]
  },
  {
   "cell_type": "code",
   "execution_count": 2,
   "metadata": {},
   "outputs": [
    {
     "ename": "TypeError",
     "evalue": "unsupported operand type(s) for +: 'int' and 'str'",
     "output_type": "error",
     "traceback": [
      "\u001b[1;31m---------------------------------------------------------------------------\u001b[0m",
      "\u001b[1;31mTypeError\u001b[0m                                 Traceback (most recent call last)",
      "Cell \u001b[1;32mIn[2], line 6\u001b[0m\n\u001b[0;32m      3\u001b[0m numero1 \u001b[38;5;241m=\u001b[39m \u001b[38;5;241m4\u001b[39m\n\u001b[0;32m      4\u001b[0m numero2 \u001b[38;5;241m=\u001b[39m \u001b[38;5;124m\"\u001b[39m\u001b[38;5;124m6\u001b[39m\u001b[38;5;124m\"\u001b[39m\n\u001b[1;32m----> 6\u001b[0m \u001b[38;5;28mprint\u001b[39m(\u001b[43mnumero1\u001b[49m\u001b[43m \u001b[49m\u001b[38;5;241;43m+\u001b[39;49m\u001b[43m \u001b[49m\u001b[43mnumero2\u001b[49m)\n",
      "\u001b[1;31mTypeError\u001b[0m: unsupported operand type(s) for +: 'int' and 'str'"
     ]
    }
   ],
   "source": [
    "# Si por algun motivo nuestras variables cambiaran a un tipo no valido\n",
    "\n",
    "numero1 = 4\n",
    "numero2 = \"6\"\n",
    "\n",
    "print(numero1 + numero2)\n",
    "\n",
    "# Dara un error de tipo y detendra la ejecucion"
   ]
  },
  {
   "cell_type": "code",
   "execution_count": 6,
   "metadata": {},
   "outputs": [
    {
     "name": "stdout",
     "output_type": "stream",
     "text": [
      "Se ha producido un error\n"
     ]
    }
   ],
   "source": [
    "numero1 = 4\n",
    "#numero2 = 6\n",
    "numero2 = \"6\"\n",
    "\n",
    "try: \n",
    "    print(numero1 + numero2)\n",
    "\n",
    "except:\n",
    "    print(\"Se ha producido un error\")\n",
    "\n",
    "# El codigo se ejecutara aunque haya un error"
   ]
  },
  {
   "cell_type": "markdown",
   "metadata": {},
   "source": [
    "## Estructura basica para el manejo de excepciones\n",
    "\n",
    "#### try: { permite examinar un codigo en busca de errores\n",
    "\n",
    "#### }\n",
    "\n",
    "#### except: { permite manejar el error\n",
    "\n",
    "#### }\n",
    "\n",
    "#### else: { permite ejecutar codigo cuando no hay ningun error\n",
    "\n",
    "#### }\n",
    "\n",
    "#### finally: { ejecuta codigo haya o no haya error\n",
    "\n",
    "#### }"
   ]
  },
  {
   "cell_type": "code",
   "execution_count": 9,
   "metadata": {},
   "outputs": [
    {
     "name": "stdout",
     "output_type": "stream",
     "text": [
      "Se ha producido un error\n",
      "EL programa ha finalizado de manera normal\n"
     ]
    }
   ],
   "source": [
    "numero1 = 4\n",
    "#numero2 = 6\n",
    "numero2 = \"6\"\n",
    "\n",
    "try: \n",
    "    print(numero1 + numero2)\n",
    "\n",
    "except:\n",
    "    print(\"Se ha producido un error\")\n",
    "\n",
    "else:\n",
    "    print(\"No se produjo error\")\n",
    "\n",
    "finally:\n",
    "    print(\"El programa ha finalizado de manera normal\")"
   ]
  },
  {
   "cell_type": "code",
   "execution_count": 21,
   "metadata": {},
   "outputs": [
    {
     "name": "stdout",
     "output_type": "stream",
     "text": [
      "Se ha producido un error por division por cero\n"
     ]
    }
   ],
   "source": [
    "# podemos hacer que se comporte de determinada manera ante determinado tipo de error\n",
    "\n",
    "numero1 = 4\n",
    "numero2 = 0\n",
    "#numero2 = \"6\"\n",
    "\n",
    "try: \n",
    "    print(numero1 / numero2)\n",
    "\n",
    "except TypeError:\n",
    "    print(\"Se ha producido un error de tipo\")\n",
    "\n",
    "except ZeroDivisionError:\n",
    "    print(\"Se ha producido un error por division por cero\")\n",
    "\n",
    "except Exception:\n",
    "    print(\"se produjo otro tipo de error:\")\n",
    "\n"
   ]
  },
  {
   "cell_type": "code",
   "execution_count": 13,
   "metadata": {},
   "outputs": [
    {
     "name": "stdout",
     "output_type": "stream",
     "text": [
      "Something went wrong when opening the file\n"
     ]
    }
   ],
   "source": [
    "# finally es util para cerrar objetos\n",
    "\n",
    "try:\n",
    "  f = open(\"demofile.txt\")\n",
    "  try:\n",
    "    f.write(\"Lorum Ipsum\")\n",
    "  except:\n",
    "    print(\"Something went wrong when writing to the file\")\n",
    "  finally:\n",
    "    f.close()\n",
    "except:\n",
    "  print(\"Something went wrong when opening the file\")  \n"
   ]
  },
  {
   "cell_type": "code",
   "execution_count": 15,
   "metadata": {},
   "outputs": [
    {
     "name": "stdout",
     "output_type": "stream",
     "text": [
      "division by zero\n"
     ]
    }
   ],
   "source": [
    "# Obtener informacion del error\n",
    "\n",
    "numero1 = 4\n",
    "numero2 = 0\n",
    "#numero2 = \"6\"\n",
    "\n",
    "try: \n",
    "    print(numero1 / numero2)\n",
    "\n",
    "except TypeError as error:\n",
    "    print(f\"Se ha producido el siguiente error: {error}\")\n",
    "\n",
    "except ZeroDivisionError as error:\n",
    "    print(f\"Se ha producido el siguiente error: {error}\")\n",
    "\n",
    "except Exception as error:\n",
    "    print(f\"se produjo otro tipo de error: {error}\")\n",
    "\n"
   ]
  },
  {
   "cell_type": "code",
   "execution_count": 32,
   "metadata": {},
   "outputs": [
    {
     "ename": "TypeError",
     "evalue": "Edad no contemplada",
     "output_type": "error",
     "traceback": [
      "\u001b[1;31m---------------------------------------------------------------------------\u001b[0m",
      "\u001b[1;31mTypeError\u001b[0m                                 Traceback (most recent call last)",
      "Cell \u001b[1;32mIn[32], line 22\u001b[0m\n\u001b[0;32m     19\u001b[0m     \u001b[38;5;28;01melif\u001b[39;00m edad\u001b[38;5;241m>\u001b[39m\u001b[38;5;241m26\u001b[39m:\n\u001b[0;32m     20\u001b[0m         \u001b[38;5;28;01mreturn\u001b[39;00m \u001b[38;5;124m\"\u001b[39m\u001b[38;5;124m¡Vete a trabajar!\u001b[39m\u001b[38;5;124m\"\u001b[39m\n\u001b[1;32m---> 22\u001b[0m \u001b[38;5;28mprint\u001b[39m(\u001b[43mevaluaEdad\u001b[49m\u001b[43m(\u001b[49m\u001b[38;5;241;43m26\u001b[39;49m\u001b[43m)\u001b[49m)\n",
      "Cell \u001b[1;32mIn[32], line 9\u001b[0m, in \u001b[0;36mevaluaEdad\u001b[1;34m(edad)\u001b[0m\n\u001b[0;32m      6\u001b[0m     \u001b[38;5;28;01mraise\u001b[39;00m \u001b[38;5;167;01mTypeError\u001b[39;00m(\u001b[38;5;124m\"\u001b[39m\u001b[38;5;124mNo se permiten edades negativas\u001b[39m\u001b[38;5;124m\"\u001b[39m)\n\u001b[0;32m      8\u001b[0m \u001b[38;5;28;01mif\u001b[39;00m edad\u001b[38;5;241m==\u001b[39m\u001b[38;5;241m26\u001b[39m:\n\u001b[1;32m----> 9\u001b[0m     \u001b[38;5;28;01mraise\u001b[39;00m \u001b[38;5;167;01mTypeError\u001b[39;00m(\u001b[38;5;124m\"\u001b[39m\u001b[38;5;124mEdad no contemplada\u001b[39m\u001b[38;5;124m\"\u001b[39m)\n\u001b[0;32m     11\u001b[0m \u001b[38;5;28;01mif\u001b[39;00m edad\u001b[38;5;241m<\u001b[39m\u001b[38;5;241m12\u001b[39m:\n\u001b[0;32m     12\u001b[0m     \u001b[38;5;28;01mreturn\u001b[39;00m \u001b[38;5;124m\"\u001b[39m\u001b[38;5;124mTodavia no has terminado la primaria\u001b[39m\u001b[38;5;124m\"\u001b[39m\n",
      "\u001b[1;31mTypeError\u001b[0m: Edad no contemplada"
     ]
    }
   ],
   "source": [
    "# Lanzamiento de excepciones (raise)\n",
    "\n",
    "def evaluaEdad(edad):\n",
    "    \n",
    "    if edad<0:\n",
    "        raise TypeError(\"No se permiten edades negativas\")\n",
    "    \n",
    "    if edad==26:\n",
    "        raise TypeError(\"Edad no contemplada\")\n",
    "\n",
    "    if edad<12:\n",
    "        return \"Todavia no has terminado la primaria\"\n",
    "    \n",
    "    elif edad<18:\n",
    "        return \"Todavia no has terminado la secundaria\"\n",
    "    \n",
    "    elif edad<26:\n",
    "        return \"Todavia no has terminado la universidad\"\n",
    "    elif edad>26:\n",
    "        return \"¡Vete a trabajar!\"\n",
    "    \n",
    "print(evaluaEdad(26))"
   ]
  }
 ],
 "metadata": {
  "kernelspec": {
   "display_name": "Python 3",
   "language": "python",
   "name": "python3"
  },
  "language_info": {
   "codemirror_mode": {
    "name": "ipython",
    "version": 3
   },
   "file_extension": ".py",
   "mimetype": "text/x-python",
   "name": "python",
   "nbconvert_exporter": "python",
   "pygments_lexer": "ipython3",
   "version": "3.11.9"
  }
 },
 "nbformat": 4,
 "nbformat_minor": 2
}

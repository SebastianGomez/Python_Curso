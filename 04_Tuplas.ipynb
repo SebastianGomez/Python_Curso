{
 "cells": [
  {
   "cell_type": "markdown",
   "metadata": {},
   "source": [
    "## Tuplas"
   ]
  },
  {
   "cell_type": "markdown",
   "metadata": {},
   "source": [
    "Son listas inmutables, es decir, no se pueden modificar una vez creadas.\n"
   ]
  },
  {
   "cell_type": "code",
   "execution_count": 1,
   "metadata": {},
   "outputs": [
    {
     "name": "stdout",
     "output_type": "stream",
     "text": [
      "20\n",
      "20\n",
      "10\n"
     ]
    }
   ],
   "source": [
    "# Ejemplo. Deseo almacenar las dimensiones de una figura geometrica y que no se puedan modificar\n",
    "\n",
    "dimensiones = (20,20,10)\n",
    "print(dimensiones[0])\n",
    "print(dimensiones[1])\n",
    "print(dimensiones[2])"
   ]
  },
  {
   "cell_type": "code",
   "execution_count": 3,
   "metadata": {},
   "outputs": [
    {
     "name": "stdout",
     "output_type": "stream",
     "text": [
      "20\n",
      "20\n",
      "10\n"
     ]
    }
   ],
   "source": [
    "# recorrer los elementos de una tupla\n",
    "for dimension in dimensiones:\n",
    "    print(dimension)\n"
   ]
  },
  {
   "cell_type": "code",
   "execution_count": 5,
   "metadata": {},
   "outputs": [
    {
     "name": "stdout",
     "output_type": "stream",
     "text": [
      "Original:\n",
      "200\n",
      "50\n",
      "\n",
      "Modificado:\n",
      "200\n",
      "50\n"
     ]
    }
   ],
   "source": [
    "dimensiones = (200, 50)\n",
    "print(\"Original:\")\n",
    "for dimension in dimensiones:\n",
    " print(dimension)\n",
    "\n",
    "dimensions = (400, 100)\n",
    "print(\"\\nModificado:\")\n",
    "for dimension in dimensiones:\n",
    " print(dimension)\n",
    "\n",
    " #Los elementos de la tupla no pueden modificarse, pero la tupla puede reescribirse"
   ]
  }
 ],
 "metadata": {
  "kernelspec": {
   "display_name": "Python 3",
   "language": "python",
   "name": "python3"
  },
  "language_info": {
   "codemirror_mode": {
    "name": "ipython",
    "version": 3
   },
   "file_extension": ".py",
   "mimetype": "text/x-python",
   "name": "python",
   "nbconvert_exporter": "python",
   "pygments_lexer": "ipython3",
   "version": "3.9.13"
  }
 },
 "nbformat": 4,
 "nbformat_minor": 2
}

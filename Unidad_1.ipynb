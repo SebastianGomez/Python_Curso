{
 "cells": [
  {
   "cell_type": "code",
   "execution_count": 1,
   "metadata": {},
   "outputs": [
    {
     "name": "stdout",
     "output_type": "stream",
     "text": [
      "Hello World\n"
     ]
    }
   ],
   "source": [
    "#Escribe un programa muestre por pantalla “Hello World”.\n",
    "print(\"Hello World\")"
   ]
  },
  {
   "cell_type": "code",
   "execution_count": 2,
   "metadata": {},
   "outputs": [
    {
     "name": "stdout",
     "output_type": "stream",
     "text": [
      "8\n"
     ]
    }
   ],
   "source": [
    "#Escribe un programa que escriba en la pantalla el resultado de sumar 3 + 5.\n",
    "print(3+5)"
   ]
  },
  {
   "cell_type": "code",
   "execution_count": 3,
   "metadata": {},
   "outputs": [
    {
     "name": "stdout",
     "output_type": "stream",
     "text": [
      "Hola seba\n"
     ]
    }
   ],
   "source": [
    "#Escribe un programa que pida el nombre del usuario y escriba un texto que\n",
    "#diga “Hola nombreUsuario”\n",
    "\n",
    "nombre = input(\"Ingrese nombre de usuario: \")\n",
    "print(f\"Hola {nombre}\")"
   ]
  },
  {
   "cell_type": "code",
   "execution_count": 4,
   "metadata": {},
   "outputs": [
    {
     "name": "stdout",
     "output_type": "stream",
     "text": [
      "La suma de 7 y 10 es: 17\n"
     ]
    }
   ],
   "source": [
    "#Escribe un programa que pida un número, pida otro número y escriba el\n",
    "#resultado de sumar estos dos números.\n",
    "\n",
    "num1 = int(input(\"Ingrese el primer numero: \"))\n",
    "num2 = int(input(\"Ingrese el segundo numero: \"))\n",
    "\n",
    "print(f\"La suma de {num1} y {num2} es: {num1+num2}\")"
   ]
  },
  {
   "cell_type": "code",
   "execution_count": 11,
   "metadata": {},
   "outputs": [
    {
     "name": "stdout",
     "output_type": "stream",
     "text": [
      "Ambos numeros son iguales\n"
     ]
    }
   ],
   "source": [
    "#Escribe un programa que pida dos números y escriba en la pantalla cual es el\n",
    "#mayor.\n",
    "num1 = int(input(\"Ingrese el primer numero: \"))\n",
    "num2 = int(input(\"Ingrese el segundo numero: \"))\n",
    "\n",
    "if num1>num2:\n",
    "    print(f\"El primer numero ({num1}) es el numero mas grande\")\n",
    "elif num2>num1:\n",
    "    print(f\"El segundo numero ({num2}) es el numero mas grande\")\n",
    "else:\n",
    "    print(\"Ambos numeros son iguales\")"
   ]
  }
 ],
 "metadata": {
  "kernelspec": {
   "display_name": "Python 3",
   "language": "python",
   "name": "python3"
  },
  "language_info": {
   "codemirror_mode": {
    "name": "ipython",
    "version": 3
   },
   "file_extension": ".py",
   "mimetype": "text/x-python",
   "name": "python",
   "nbconvert_exporter": "python",
   "pygments_lexer": "ipython3",
   "version": "3.10.4"
  }
 },
 "nbformat": 4,
 "nbformat_minor": 2
}

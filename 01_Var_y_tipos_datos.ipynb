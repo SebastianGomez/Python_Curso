{
 "cells": [
  {
   "cell_type": "markdown",
   "metadata": {},
   "source": [
    "# Variables y tipos de datos"
   ]
  },
  {
   "cell_type": "markdown",
   "metadata": {},
   "source": [
    "## \"Hola Mundo\""
   ]
  },
  {
   "cell_type": "code",
   "execution_count": 8,
   "metadata": {},
   "outputs": [
    {
     "name": "stdout",
     "output_type": "stream",
     "text": [
      "Hola Mundo\n"
     ]
    }
   ],
   "source": [
    "# Esto es un comentario\n",
    "print(\"Hola Mundo\")\n"
   ]
  },
  {
   "cell_type": "markdown",
   "metadata": {},
   "source": [
    "## Variables"
   ]
  },
  {
   "cell_type": "code",
   "execution_count": 9,
   "metadata": {},
   "outputs": [
    {
     "name": "stdout",
     "output_type": "stream",
     "text": [
      "Hola Mundo\n"
     ]
    }
   ],
   "source": [
    "mensaje = \"Hola Mundo\"\n",
    "print(mensaje)"
   ]
  },
  {
   "cell_type": "markdown",
   "metadata": {},
   "source": [
    "## Tipos de datos en Python"
   ]
  },
  {
   "cell_type": "code",
   "execution_count": 10,
   "metadata": {},
   "outputs": [
    {
     "name": "stdout",
     "output_type": "stream",
     "text": [
      "<class 'int'>\n",
      "<class 'float'>\n",
      "<class 'str'>\n",
      "<class 'bool'>\n"
     ]
    }
   ],
   "source": [
    "#Estos son los tipos principales de datos en Python\n",
    "print(type(2)) #Tipo entero\n",
    "print(type(2.0)) #Tipo flotante\n",
    "print(type(\"Hola\")) #Tipo cadena de caracteres\n",
    "print(type(True)) #Tipo booleano\n"
   ]
  },
  {
   "cell_type": "markdown",
   "metadata": {},
   "source": [
    "Strings (srt)"
   ]
  },
  {
   "cell_type": "code",
   "execution_count": 16,
   "metadata": {},
   "outputs": [
    {
     "name": "stdout",
     "output_type": "stream",
     "text": [
      "JULIO BERNE\n",
      "julio berne\n",
      "Julio berne\n",
      "Julio Berne\n",
      "El nombre es:Julio Berne\n"
     ]
    }
   ],
   "source": [
    "\"Esto es un string\"\n",
    "'Esto es un string'\n",
    "\n",
    "# Algunos metodos de los strings\n",
    "\n",
    "nombre = \"Julio Berne\"\n",
    "\n",
    "print(nombre.upper()) #Convierte a mayusculas\n",
    "print(nombre.lower()) #Convierte a minusculas\n",
    "print(nombre.capitalize()) #Convierte la primera letra en mayuscula\n",
    "print(nombre.title()) #Convierte la primera letra de cada palabra en mayuscula\n",
    "\n",
    "# variables en un string\n",
    "\n",
    "first_name = \"julio\"\n",
    "last_name = \"berne\"\n",
    "\n",
    "print(f\"El nombre es:{first_name.title()} {last_name.title()}\") #Python 3.6+\n",
    "\n"
   ]
  },
  {
   "cell_type": "code",
   "execution_count": 19,
   "metadata": {},
   "outputs": [
    {
     "name": "stdout",
     "output_type": "stream",
     "text": [
      "Python\n",
      "---------------------------------------------------------------\n",
      "\tPython\n",
      "---------------------------------------------------------------\n",
      "Lenguajes:\n",
      "Python\n",
      "C\n",
      "JavaScript\n",
      "---------------------------------------------------------------\n",
      "Lenguajes:\n",
      "\tPython\n",
      "\tC\n",
      "\tJavaScript\n"
     ]
    }
   ],
   "source": [
    "#Agregando espacios en blanco a los strings con tabulaciones o saltos de linea\n",
    "print(\"Python\")\n",
    "print(\"---------------------------------------------------------------\")\n",
    "print(\"\\tPython\") #\\t tabulacion\n",
    "print(\"---------------------------------------------------------------\")\n",
    "print(\"Lenguajes:\\nPython\\nC\\nJavaScript\") #\\n salto de linea\n",
    "print(\"---------------------------------------------------------------\")\n",
    "print(\"Lenguajes:\\n\\tPython\\n\\tC\\n\\tJavaScript\") #\\n salto de linea y \\t tabulacion"
   ]
  },
  {
   "cell_type": "code",
   "execution_count": 27,
   "metadata": {},
   "outputs": [
    {
     "name": "stdout",
     "output_type": "stream",
     "text": [
      "Python \n",
      "7\n",
      "Python\n",
      "6\n",
      "Python\n",
      "6\n",
      "---------------------------------------------------------------\n",
      " Python\n",
      "7\n",
      "Python\n",
      "6\n",
      "Python\n",
      "6\n",
      "---------------------------------------------------------------\n",
      "   Python   \n",
      "12\n",
      "Python\n",
      "6\n",
      "Python\n",
      "6\n"
     ]
    }
   ],
   "source": [
    "# Otro metodo rstrip(). Eliminar espacios en blanco\n",
    "lenguaje = \"Python \"\n",
    "print(lenguaje)\n",
    "print(len(lenguaje))\n",
    "print(lenguaje.rstrip())\n",
    "print(len(lenguaje.rstrip()))\n",
    "#para conservar el cambio se debe asignar a la variable\n",
    "lenguaje = lenguaje.rstrip()\n",
    "print(lenguaje)\n",
    "print(len(lenguaje))\n",
    "\n",
    "# Otro metodo lstrip(). Eliminar espacios en blanco a la izquierda\n",
    "print(\"---------------------------------------------------------------\")\n",
    "\n",
    "lenguaje = \" Python\"\n",
    "print(lenguaje)\n",
    "print(len(lenguaje))\n",
    "print(lenguaje.lstrip())\n",
    "print(len(lenguaje.lstrip()))\n",
    "#para conservar el cambio se debe asignar a la variable\n",
    "lenguaje = lenguaje.lstrip()\n",
    "print(lenguaje)\n",
    "print(len(lenguaje))\n",
    "\n",
    "# Otro metodo strip(). Eliminar espacios en blanco en ambos lados\n",
    "print(\"---------------------------------------------------------------\")\n",
    "\n",
    "lenguaje = \"   Python   \"\n",
    "print(lenguaje)\n",
    "print(len(lenguaje))\n",
    "print(lenguaje.strip())\n",
    "print(len(lenguaje.strip()))\n",
    "#para conservar el cambio se debe asignar a la variable\n",
    "lenguaje = lenguaje.strip()\n",
    "print(lenguaje)\n",
    "print(len(lenguaje))"
   ]
  },
  {
   "cell_type": "code",
   "execution_count": 30,
   "metadata": {},
   "outputs": [
    {
     "name": "stdout",
     "output_type": "stream",
     "text": [
      "python.org\n",
      "www.python\n",
      "python\n"
     ]
    }
   ],
   "source": [
    "# metodo removeprefix(). Eliminar prefijo\n",
    "direccion_web = \"www.python.org\"\n",
    "print(direccion_web.removeprefix(\"www.\"))\n",
    "# metodo removesuffix(). Eliminar sufijo\n",
    "print(direccion_web.removesuffix(\".org\"))\n",
    "#guardar los cambios\n",
    "direccion_web = direccion_web.removeprefix(\"www.\")\n",
    "direccion_web = direccion_web.removesuffix(\".org\")\n",
    "print(direccion_web)\n",
    "\n"
   ]
  },
  {
   "cell_type": "markdown",
   "metadata": {},
   "source": [
    "## Numeros"
   ]
  },
  {
   "cell_type": "code",
   "execution_count": 6,
   "metadata": {},
   "outputs": [
    {
     "name": "stdout",
     "output_type": "stream",
     "text": [
      "suma: 4\n",
      "resta: 0\n",
      "producto: 4\n",
      "division: 1.0\n",
      "8\n"
     ]
    }
   ],
   "source": [
    "# operaciones con enteros\n",
    "suma = 2+2\n",
    "resta = 2-2\n",
    "producto = 2*2\n",
    "division = 2/2\n",
    "print(f\"suma: {suma}\\nresta: {resta}\\nproducto: {producto}\\ndivision: {division}\")\n",
    "#division devuelve un float\n",
    "potencia = 2**3\n",
    "print(potencia)      \n"
   ]
  },
  {
   "cell_type": "markdown",
   "metadata": {},
   "source": [
    "## Asignaciones multiples"
   ]
  },
  {
   "cell_type": "code",
   "execution_count": 9,
   "metadata": {},
   "outputs": [
    {
     "name": "stdout",
     "output_type": "stream",
     "text": [
      "10\n",
      "20\n",
      "30\n"
     ]
    }
   ],
   "source": [
    "x,y,z = 10,20,30\n",
    "print(x)\n",
    "print(y)\n",
    "print(z)"
   ]
  },
  {
   "cell_type": "markdown",
   "metadata": {},
   "source": [
    "## Constantes"
   ]
  },
  {
   "cell_type": "code",
   "execution_count": 10,
   "metadata": {},
   "outputs": [],
   "source": [
    "#Python no reconoce constantes de manera diferenciada, pero por convenio se utiliza\n",
    "# el nombre todo en mayuscula para indicar que se trata de una variable\n",
    "\n",
    "TEMP_MAX = 1000 #Ejemplo de constante"
   ]
  }
 ],
 "metadata": {
  "kernelspec": {
   "display_name": "Python 3",
   "language": "python",
   "name": "python3"
  },
  "language_info": {
   "codemirror_mode": {
    "name": "ipython",
    "version": 3
   },
   "file_extension": ".py",
   "mimetype": "text/x-python",
   "name": "python",
   "nbconvert_exporter": "python",
   "pygments_lexer": "ipython3",
   "version": "3.9.13"
  }
 },
 "nbformat": 4,
 "nbformat_minor": 2
}

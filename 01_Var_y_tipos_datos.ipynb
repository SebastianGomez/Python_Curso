{
 "cells": [
  {
   "cell_type": "markdown",
   "metadata": {},
   "source": [
    "# Variables y tipos de datos"
   ]
  },
  {
   "cell_type": "markdown",
   "metadata": {},
   "source": [
    "## \"Hola Mundo\""
   ]
  },
  {
   "cell_type": "code",
   "execution_count": 8,
   "metadata": {},
   "outputs": [
    {
     "name": "stdout",
     "output_type": "stream",
     "text": [
      "Hola Mundo\n"
     ]
    }
   ],
   "source": [
    "# Esto es un comentario\n",
    "print(\"Hola Mundo\")\n"
   ]
  },
  {
   "cell_type": "code",
   "execution_count": 6,
   "metadata": {},
   "outputs": [
    {
     "name": "stdout",
     "output_type": "stream",
     "text": [
      "1 2 3 4 5 6\n",
      "1--2--3--4--5--6\n",
      "1 2 3 4 5 6/\n",
      "1\n",
      "2\n",
      "3\n",
      "4\n",
      "5\n",
      "6\n"
     ]
    }
   ],
   "source": [
    "# sep y end\n",
    "\n",
    "print(1,2,3,4,5,6)\n",
    "# por defecto, agrega un espacio entre elementos y al final\n",
    "\n",
    "print(1,2,3,4,5,6,sep=\"--\")\n",
    "print(1,2,3,4,5,6,end=\"/\\n\")\n",
    "print(1,2,3,4,5,6,sep=\"\\n\")\n"
   ]
  },
  {
   "cell_type": "markdown",
   "metadata": {},
   "source": [
    "# Constantes"
   ]
  },
  {
   "cell_type": "code",
   "execution_count": 11,
   "metadata": {},
   "outputs": [
    {
     "name": "stdout",
     "output_type": "stream",
     "text": [
      "3.14\n",
      "123456\n"
     ]
    }
   ],
   "source": [
    "# Las constantes en python son variables que se mantienen fijas.\n",
    "# Por lo general se importan en un modulo aparte y se escriben en mayuscula.\n",
    "\n",
    "import constantes\n",
    "\n",
    "print(constantes.PI)\n",
    "print(constantes.CONTRASEÑA)\n"
   ]
  },
  {
   "cell_type": "code",
   "execution_count": 12,
   "metadata": {},
   "outputs": [
    {
     "name": "stdout",
     "output_type": "stream",
     "text": [
      "25\n",
      "Admin\n"
     ]
    }
   ],
   "source": [
    "from constantes import *\n",
    "print(EDAD)\n",
    "print(USUARIO)"
   ]
  },
  {
   "cell_type": "markdown",
   "metadata": {},
   "source": [
    "## Variables"
   ]
  },
  {
   "cell_type": "code",
   "execution_count": 9,
   "metadata": {},
   "outputs": [
    {
     "name": "stdout",
     "output_type": "stream",
     "text": [
      "Hola Mundo\n"
     ]
    }
   ],
   "source": [
    "mensaje = \"Hola Mundo\"\n",
    "print(mensaje)"
   ]
  },
  {
   "cell_type": "markdown",
   "metadata": {},
   "source": [
    "## Tipos de datos en Python"
   ]
  },
  {
   "cell_type": "code",
   "execution_count": 22,
   "metadata": {},
   "outputs": [
    {
     "name": "stdout",
     "output_type": "stream",
     "text": [
      "<class 'int'>\n",
      "<class 'float'>\n",
      "<class 'str'>\n",
      "<class 'bool'>\n",
      "<class 'complex'>\n",
      "<class 'list'>\n",
      "<class 'set'>\n"
     ]
    }
   ],
   "source": [
    "#Estos son los tipos principales de datos en Python\n",
    "print(type(2)) #Tipo entero\n",
    "print(type(2.0)) #Tipo flotante\n",
    "print(type(\"Hola\")) #Tipo cadena de caracteres\n",
    "print(type(True)) #Tipo booleano\n",
    "print(type(2+7j)) #Tipo complejo\n",
    "print(type([1,\"auto\"])) #Tipo lista\n",
    "print(type({1,\"auto\"})) #Tipo lista\n"
   ]
  },
  {
   "cell_type": "code",
   "execution_count": 21,
   "metadata": {},
   "outputs": [
    {
     "name": "stdout",
     "output_type": "stream",
     "text": [
      "<class 'complex'>\n",
      "2.0\n",
      "7.0\n"
     ]
    }
   ],
   "source": [
    "#metodos de numeros complejos\n",
    "print(type(2+7j)) #Tipo complejo\n",
    "print((2+7j).real) #Tipo complejo\n",
    "print((2+7j).imag) #Tipo complejo"
   ]
  },
  {
   "cell_type": "markdown",
   "metadata": {},
   "source": [
    "## Strings (srt)"
   ]
  },
  {
   "cell_type": "code",
   "execution_count": 16,
   "metadata": {},
   "outputs": [
    {
     "name": "stdout",
     "output_type": "stream",
     "text": [
      "JULIO BERNE\n",
      "julio berne\n",
      "Julio berne\n",
      "Julio Berne\n",
      "El nombre es:Julio Berne\n"
     ]
    }
   ],
   "source": [
    "\"Esto es un string\"\n",
    "'Esto es un string'\n",
    "\n",
    "# Algunos metodos de los strings\n",
    "\n",
    "nombre = \"Julio Berne\"\n",
    "\n",
    "print(nombre.upper()) #Convierte a mayusculas\n",
    "print(nombre.lower()) #Convierte a minusculas\n",
    "print(nombre.capitalize()) #Convierte la primera letra en mayuscula\n",
    "print(nombre.title()) #Convierte la primera letra de cada palabra en mayuscula\n",
    "\n",
    "# variables en un string\n",
    "\n",
    "first_name = \"julio\"\n",
    "last_name = \"berne\"\n",
    "\n",
    "print(f\"El nombre es:{first_name.title()} {last_name.title()}\") #Python 3.6+\n",
    "\n"
   ]
  },
  {
   "cell_type": "code",
   "execution_count": 19,
   "metadata": {},
   "outputs": [
    {
     "name": "stdout",
     "output_type": "stream",
     "text": [
      "Python\n",
      "---------------------------------------------------------------\n",
      "\tPython\n",
      "---------------------------------------------------------------\n",
      "Lenguajes:\n",
      "Python\n",
      "C\n",
      "JavaScript\n",
      "---------------------------------------------------------------\n",
      "Lenguajes:\n",
      "\tPython\n",
      "\tC\n",
      "\tJavaScript\n"
     ]
    }
   ],
   "source": [
    "#Agregando espacios en blanco a los strings con tabulaciones o saltos de linea\n",
    "print(\"Python\")\n",
    "print(\"---------------------------------------------------------------\")\n",
    "print(\"\\tPython\") #\\t tabulacion\n",
    "print(\"---------------------------------------------------------------\")\n",
    "print(\"Lenguajes:\\nPython\\nC\\nJavaScript\") #\\n salto de linea\n",
    "print(\"---------------------------------------------------------------\")\n",
    "print(\"Lenguajes:\\n\\tPython\\n\\tC\\n\\tJavaScript\") #\\n salto de linea y \\t tabulacion"
   ]
  },
  {
   "cell_type": "code",
   "execution_count": 27,
   "metadata": {},
   "outputs": [
    {
     "name": "stdout",
     "output_type": "stream",
     "text": [
      "Python \n",
      "7\n",
      "Python\n",
      "6\n",
      "Python\n",
      "6\n",
      "---------------------------------------------------------------\n",
      " Python\n",
      "7\n",
      "Python\n",
      "6\n",
      "Python\n",
      "6\n",
      "---------------------------------------------------------------\n",
      "   Python   \n",
      "12\n",
      "Python\n",
      "6\n",
      "Python\n",
      "6\n"
     ]
    }
   ],
   "source": [
    "# Otro metodo rstrip(). Eliminar espacios en blanco\n",
    "lenguaje = \"Python \"\n",
    "print(lenguaje)\n",
    "print(len(lenguaje))\n",
    "print(lenguaje.rstrip())\n",
    "print(len(lenguaje.rstrip()))\n",
    "#para conservar el cambio se debe asignar a la variable\n",
    "lenguaje = lenguaje.rstrip()\n",
    "print(lenguaje)\n",
    "print(len(lenguaje))\n",
    "\n",
    "# Otro metodo lstrip(). Eliminar espacios en blanco a la izquierda\n",
    "print(\"---------------------------------------------------------------\")\n",
    "\n",
    "lenguaje = \" Python\"\n",
    "print(lenguaje)\n",
    "print(len(lenguaje))\n",
    "print(lenguaje.lstrip())\n",
    "print(len(lenguaje.lstrip()))\n",
    "#para conservar el cambio se debe asignar a la variable\n",
    "lenguaje = lenguaje.lstrip()\n",
    "print(lenguaje)\n",
    "print(len(lenguaje))\n",
    "\n",
    "# Otro metodo strip(). Eliminar espacios en blanco en ambos lados\n",
    "print(\"---------------------------------------------------------------\")\n",
    "\n",
    "lenguaje = \"   Python   \"\n",
    "print(lenguaje)\n",
    "print(len(lenguaje))\n",
    "print(lenguaje.strip())\n",
    "print(len(lenguaje.strip()))\n",
    "#para conservar el cambio se debe asignar a la variable\n",
    "lenguaje = lenguaje.strip()\n",
    "print(lenguaje)\n",
    "print(len(lenguaje))"
   ]
  },
  {
   "cell_type": "code",
   "execution_count": 30,
   "metadata": {},
   "outputs": [
    {
     "name": "stdout",
     "output_type": "stream",
     "text": [
      "python.org\n",
      "www.python\n",
      "python\n"
     ]
    }
   ],
   "source": [
    "# metodo removeprefix(). Eliminar prefijo\n",
    "direccion_web = \"www.python.org\"\n",
    "print(direccion_web.removeprefix(\"www.\"))\n",
    "# metodo removesuffix(). Eliminar sufijo\n",
    "print(direccion_web.removesuffix(\".org\"))\n",
    "#guardar los cambios\n",
    "direccion_web = direccion_web.removeprefix(\"www.\")\n",
    "direccion_web = direccion_web.removesuffix(\".org\")\n",
    "print(direccion_web)\n",
    "\n"
   ]
  },
  {
   "cell_type": "markdown",
   "metadata": {},
   "source": [
    "## Operadores Aritmeticos"
   ]
  },
  {
   "cell_type": "code",
   "execution_count": 39,
   "metadata": {},
   "outputs": [
    {
     "name": "stdout",
     "output_type": "stream",
     "text": [
      "suma: 4\n",
      "resta: 0\n",
      "producto: 4\n",
      "division: 1.0\n",
      "8\n",
      "-7\n",
      "6\n",
      "1\n"
     ]
    }
   ],
   "source": [
    "# operaciones con enteros\n",
    "suma = 2+2\n",
    "resta = 2-2\n",
    "producto = 2*2\n",
    "division = 2/2\n",
    "print(f\"suma: {suma}\\nresta: {resta}\\nproducto: {producto}\\ndivision: {division}\")\n",
    "#division devuelve un float\n",
    "potencia = 2**3\n",
    "print(potencia)\n",
    "negacion = -7\n",
    "print(negacion)\n",
    "div_entera = 13//2\n",
    "print(div_entera)\n",
    "modulo = 13%2\n",
    "print(modulo)\n"
   ]
  },
  {
   "cell_type": "markdown",
   "metadata": {},
   "source": [
    "## Operadores de Asignacion"
   ]
  },
  {
   "cell_type": "code",
   "execution_count": 36,
   "metadata": {},
   "outputs": [
    {
     "name": "stdout",
     "output_type": "stream",
     "text": [
      "10\n",
      "15\n",
      "12\n",
      "120\n",
      "12.0\n",
      "144.0\n",
      "154.0\n",
      "12.0\n",
      "0.0\n"
     ]
    }
   ],
   "source": [
    "a = 10  # Asigna un valor a una variable\n",
    "print(a)\n",
    "a+=5 # Suma a la variable izquierda el valor de la derecha\n",
    "print(a)\n",
    "a-=3 # Resta a la variable izquierda el valor de la derecha\n",
    "print(a)\n",
    "a*=10 # Multiplica a la variable izquierda el valor de la derecha\n",
    "print(a)\n",
    "a/=10 # Divide a la variable izquierda el valor de la derecha\n",
    "print(a)\n",
    "a**=2 # Eleva a la variable izquierda el valor de la derecha\n",
    "print(a)\n",
    "a+=10\n",
    "print(a)\n",
    "a//=12 # Division entera\n",
    "print(a)\n",
    "a%=12 # Resto de una division\n",
    "print(a)"
   ]
  },
  {
   "cell_type": "markdown",
   "metadata": {},
   "source": [
    "## Operadores Relacionales"
   ]
  },
  {
   "cell_type": "code",
   "execution_count": 43,
   "metadata": {},
   "outputs": [
    {
     "name": "stdout",
     "output_type": "stream",
     "text": [
      "True\n",
      "True\n",
      "False\n",
      "True\n",
      "True\n",
      "True\n"
     ]
    }
   ],
   "source": [
    "print(10==10) #igual\n",
    "print(10!=9) #distinto\n",
    "print(10<9) #menor que\n",
    "print(10>9) #mayor que\n",
    "print(9<=9) #menor o igual que\n",
    "print(10>=9) #mayor o igual que"
   ]
  },
  {
   "cell_type": "markdown",
   "metadata": {},
   "source": [
    "## Asignaciones multiples"
   ]
  },
  {
   "cell_type": "code",
   "execution_count": 9,
   "metadata": {},
   "outputs": [
    {
     "name": "stdout",
     "output_type": "stream",
     "text": [
      "10\n",
      "20\n",
      "30\n"
     ]
    }
   ],
   "source": [
    "x,y,z = 10,20,30\n",
    "print(x)\n",
    "print(y)\n",
    "print(z)"
   ]
  },
  {
   "cell_type": "markdown",
   "metadata": {},
   "source": [
    "## Constantes"
   ]
  },
  {
   "cell_type": "code",
   "execution_count": 10,
   "metadata": {},
   "outputs": [],
   "source": [
    "#Python no reconoce constantes de manera diferenciada, pero por convenio se utiliza\n",
    "# el nombre todo en mayuscula para indicar que se trata de una variable\n",
    "\n",
    "TEMP_MAX = 1000 #Ejemplo de constante"
   ]
  }
 ],
 "metadata": {
  "kernelspec": {
   "display_name": "Python 3",
   "language": "python",
   "name": "python3"
  },
  "language_info": {
   "codemirror_mode": {
    "name": "ipython",
    "version": 3
   },
   "file_extension": ".py",
   "mimetype": "text/x-python",
   "name": "python",
   "nbconvert_exporter": "python",
   "pygments_lexer": "ipython3",
   "version": "3.9.13"
  }
 },
 "nbformat": 4,
 "nbformat_minor": 2
}

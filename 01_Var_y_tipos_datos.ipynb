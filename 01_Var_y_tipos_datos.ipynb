{
 "cells": [
  {
   "cell_type": "markdown",
   "metadata": {},
   "source": [
    "# Variables y tipos de datos"
   ]
  },
  {
   "cell_type": "markdown",
   "metadata": {},
   "source": [
    "## \"Hola Mundo\""
   ]
  },
  {
   "cell_type": "code",
   "execution_count": 2,
   "metadata": {},
   "outputs": [
    {
     "name": "stdout",
     "output_type": "stream",
     "text": [
      "Hola Mundo\n"
     ]
    }
   ],
   "source": [
    "# Esto es un comentario\n",
    "print(\"Hola Mundo\")\n"
   ]
  },
  {
   "cell_type": "code",
   "execution_count": 1,
   "metadata": {},
   "outputs": [
    {
     "name": "stdout",
     "output_type": "stream",
     "text": [
      "1 2 3 4 5 6\n",
      "1--2--3--4--5--6\n",
      "1 2 3 4 5 6\n",
      "1\n",
      "2\n",
      "3\n",
      "4\n",
      "5\n",
      "6\n"
     ]
    }
   ],
   "source": [
    "# sep y end\n",
    "\n",
    "print(1,2,3,4,5,6)\n",
    "# por defecto, agrega un espacio entre elementos y al final\n",
    "\n",
    "print(1,2,3,4,5,6,sep=\"--\")\n",
    "print(1,2,3,4,5,6,end=\"\\n\")\n",
    "print(1,2,3,4,5,6,sep=\"\\n\")\n"
   ]
  },
  {
   "cell_type": "markdown",
   "metadata": {},
   "source": [
    "# Constantes"
   ]
  },
  {
   "cell_type": "code",
   "execution_count": 4,
   "metadata": {},
   "outputs": [
    {
     "name": "stdout",
     "output_type": "stream",
     "text": [
      "3.14\n",
      "123456\n"
     ]
    }
   ],
   "source": [
    "# Las constantes en python son variables que se mantienen fijas.\n",
    "# Por lo general se importan en un modulo aparte y se escriben en mayuscula.\n",
    "\n",
    "import constantes\n",
    "\n",
    "print(constantes.PI)\n",
    "print(constantes.CONTRASEÑA)\n"
   ]
  },
  {
   "cell_type": "code",
   "execution_count": 5,
   "metadata": {},
   "outputs": [
    {
     "name": "stdout",
     "output_type": "stream",
     "text": [
      "25\n",
      "Admin\n"
     ]
    }
   ],
   "source": [
    "from constantes import *\n",
    "print(EDAD)\n",
    "print(USUARIO)"
   ]
  },
  {
   "cell_type": "markdown",
   "metadata": {},
   "source": [
    "## Variables"
   ]
  },
  {
   "cell_type": "code",
   "execution_count": 3,
   "metadata": {},
   "outputs": [
    {
     "name": "stdout",
     "output_type": "stream",
     "text": [
      "Esto es una variable,esta compuesta por un tipo,un valor y un identificador\n",
      "Identificador: mensaje\n",
      "valor : Esto es una variable,esta compuesta por un tipo,un valor y un identificador \n",
      "Tipo: <class 'str'>\n"
     ]
    }
   ],
   "source": [
    "mensaje = \"Esto es una variable,esta compuesta por un tipo,un valor y un identificador\"\n",
    "print(mensaje)\n",
    "\n",
    "print(\"Identificador: mensaje\")\n",
    "print(\"valor : Esto es una variable,esta compuesta por un tipo,un valor y un identificador \")\n",
    "print(f\"Tipo: {type(mensaje)}\")\n"
   ]
  },
  {
   "cell_type": "markdown",
   "metadata": {},
   "source": [
    "## Asignaciones multiples"
   ]
  },
  {
   "cell_type": "code",
   "execution_count": null,
   "metadata": {},
   "outputs": [
    {
     "name": "stdout",
     "output_type": "stream",
     "text": [
      "10\n",
      "20\n",
      "30\n"
     ]
    }
   ],
   "source": [
    "x,y,z = 10,20,30\n",
    "print(x)\n",
    "print(y)\n",
    "print(z)"
   ]
  },
  {
   "cell_type": "markdown",
   "metadata": {},
   "source": [
    "## Mutabilidad"
   ]
  },
  {
   "cell_type": "code",
   "execution_count": 9,
   "metadata": {},
   "outputs": [
    {
     "name": "stdout",
     "output_type": "stream",
     "text": [
      "Espacio de memoria: 140717834160696\n",
      "Espacio de memoria: 140717834160696\n",
      "Espacio de memoria: 140717834160856\n"
     ]
    }
   ],
   "source": [
    "#Cuado asignamos una variable, en realidad estamos apuntando un nombre a un espacio de memoria\n",
    "a = 5\n",
    "print(f\"Espacio de memoria: {id(a)}\")\n",
    "b = a\n",
    "print(f\"Espacio de memoria: {id(b)}\")\n",
    "\n",
    "# ambas variables apuntan al mismo espacio de memoria\n",
    "a = 10\n",
    "print(f\"Espacio de memoria: {id(a)}\")\n",
    "# El espacio de memoria cambio, porque un int es inmutable, no se modifica el valor en ell espacio de memoria\n",
    "\n"
   ]
  },
  {
   "cell_type": "markdown",
   "metadata": {},
   "source": [
    "##### Inmutables (bool,int,float,str,tuple)     \n",
    "##### Mutables (list,set,dict)\n",
    " "
   ]
  },
  {
   "cell_type": "code",
   "execution_count": 15,
   "metadata": {},
   "outputs": [
    {
     "name": "stdout",
     "output_type": "stream",
     "text": [
      "Espacio de memoria: 140717834160696\n",
      "Espacio de memoria: 140717834160728\n",
      "Espacio de memoria: 1924050103040\n",
      "Espacio de memoria: 1924050103040\n"
     ]
    }
   ],
   "source": [
    "a = 5\n",
    "print(f\"Espacio de memoria: {id(a)}\")\n",
    "\n",
    "a = a+1\n",
    "print(f\"Espacio de memoria: {id(a)}\")\n",
    "\n",
    "list1 = [0,1,2,3,4]\n",
    "print(f\"Espacio de memoria: {id(list1)}\")\n",
    "\n",
    "list1.append(5)\n",
    "print(f\"Espacio de memoria: {id(list1)}\")\n",
    "\n",
    "# en el primer caso, al modificar la variable, se crea un nuevo espacio de memoria\n",
    "# en el segundo caso, se modifica el dato almacenado en el espacio de memoria"
   ]
  },
  {
   "cell_type": "code",
   "execution_count": 18,
   "metadata": {},
   "outputs": [
    {
     "name": "stdout",
     "output_type": "stream",
     "text": [
      "Help on built-in function id in module builtins:\n",
      "\n",
      "id(obj, /)\n",
      "    Return the identity of an object.\n",
      "\n",
      "    This is guaranteed to be unique among simultaneously existing objects.\n",
      "    (CPython uses the object's memory address.)\n",
      "\n"
     ]
    }
   ],
   "source": [
    "# Ayuda\n",
    "help(id)"
   ]
  },
  {
   "cell_type": "markdown",
   "metadata": {},
   "source": [
    "## Tipos de datos en Python"
   ]
  },
  {
   "cell_type": "code",
   "execution_count": 7,
   "metadata": {},
   "outputs": [
    {
     "name": "stdout",
     "output_type": "stream",
     "text": [
      "<class 'int'>\n",
      "<class 'float'>\n",
      "<class 'str'>\n",
      "<class 'bool'>\n",
      "<class 'complex'>\n",
      "<class 'list'>\n",
      "<class 'set'>\n"
     ]
    }
   ],
   "source": [
    "#Estos son los tipos principales de datos en Python\n",
    "print(type(2)) #Tipo entero\n",
    "print(type(2.0)) #Tipo flotante\n",
    "print(type(\"Hola\")) #Tipo cadena de caracteres\n",
    "print(type(True)) #Tipo booleano\n",
    "print(type(2+7j)) #Tipo complejo\n",
    "print(type([1,\"auto\"])) #Tipo lista\n",
    "print(type({1,\"auto\"})) #Tipo lista\n"
   ]
  },
  {
   "cell_type": "code",
   "execution_count": 8,
   "metadata": {},
   "outputs": [
    {
     "name": "stdout",
     "output_type": "stream",
     "text": [
      "<class 'complex'>\n",
      "2.0\n",
      "7.0\n"
     ]
    }
   ],
   "source": [
    "#metodos de numeros complejos\n",
    "print(type(2+7j)) #Tipo complejo\n",
    "print((2+7j).real) #Tipo complejo\n",
    "print((2+7j).imag) #Tipo complejo"
   ]
  },
  {
   "cell_type": "markdown",
   "metadata": {},
   "source": [
    "## Strings (srt)"
   ]
  },
  {
   "cell_type": "code",
   "execution_count": 27,
   "metadata": {},
   "outputs": [
    {
     "name": "stdout",
     "output_type": "stream",
     "text": [
      "<class 'str'>\n",
      "<class 'str'>\n",
      "Me gusta programarMi lenguaje favorito es Python\n",
      "Me gusta programar. Mi lenguaje favorito es Python\n",
      "Me gusta programarMe gusta programarMe gusta programarMe gusta programarMe gusta programar\n",
      "H o mundo\n",
      "2753238192048\n",
      "2753238202160\n"
     ]
    },
    {
     "ename": "TypeError",
     "evalue": "'str' object does not support item assignment",
     "output_type": "error",
     "traceback": [
      "\u001b[1;31m---------------------------------------------------------------------------\u001b[0m",
      "\u001b[1;31mTypeError\u001b[0m                                 Traceback (most recent call last)",
      "Cell \u001b[1;32mIn[27], line 33\u001b[0m\n\u001b[0;32m     30\u001b[0m text \u001b[38;5;241m=\u001b[39m \u001b[38;5;124m\"\u001b[39m\u001b[38;5;124mcambia ?\u001b[39m\u001b[38;5;124m\"\u001b[39m\n\u001b[0;32m     31\u001b[0m \u001b[38;5;28mprint\u001b[39m(\u001b[38;5;28mid\u001b[39m(text))\n\u001b[1;32m---> 33\u001b[0m \u001b[43mtext\u001b[49m\u001b[43m[\u001b[49m\u001b[38;5;241;43m4\u001b[39;49m\u001b[43m]\u001b[49m \u001b[38;5;241m=\u001b[39m \u001b[38;5;124m\"\u001b[39m\u001b[38;5;124m-\u001b[39m\u001b[38;5;124m\"\u001b[39m \n",
      "\u001b[1;31mTypeError\u001b[0m: 'str' object does not support item assignment"
     ]
    }
   ],
   "source": [
    "\"Esto es un string\"\n",
    "'Esto es otro string'\n",
    "\n",
    "#cadena vacia\n",
    "\"\"\n",
    "#conversion de un tipo de dato a string\n",
    "\n",
    "print(type(str(10)))\n",
    "print(type(str(True)))\n",
    "\n",
    "# combinar cadenas\n",
    "\n",
    "text1 = \"Me gusta programar\"\n",
    "text2 = \"Mi lenguaje favorito es Python\"\n",
    "\n",
    "print(text1 + text2)\n",
    "print(text1 + \". \" + text2)\n",
    "\n",
    "# repetir cadenas\n",
    "\n",
    "print(text1*5)\n",
    "\n",
    "# Los string estan indexados y son iterables\n",
    "\n",
    "text = \"Hola mundo\"\n",
    "print(text[0],text[-1],text[5:10])\n",
    "\n",
    "# Al ser inmutables, no podemos cambiar un caracter de manera directa\n",
    "print(id(text))\n",
    "text = \"cambia ?\"\n",
    "print(id(text)) #no se modifico el espacio de memoria, se creo uno nuevo\n",
    "\n",
    "text[4] = \"-\" "
   ]
  },
  {
   "cell_type": "code",
   "execution_count": 32,
   "metadata": {},
   "outputs": [
    {
     "name": "stdout",
     "output_type": "stream",
     "text": [
      "Hola mundo\n",
      "mundo\n",
      "Hola\n",
      "Hl ud\n"
     ]
    }
   ],
   "source": [
    "# troncar una cadena\n",
    "text = \"Hola mundo\"\n",
    "\n",
    "print(text[:])\n",
    "print(text[5:])\n",
    "print(text[0:4])\n",
    "print(text[::2])\n"
   ]
  },
  {
   "cell_type": "code",
   "execution_count": 33,
   "metadata": {},
   "outputs": [
    {
     "data": {
      "text/plain": [
       "10"
      ]
     },
     "execution_count": 33,
     "metadata": {},
     "output_type": "execute_result"
    }
   ],
   "source": [
    "# Funcion len()  Da el numero de elementos de una cadena\n",
    "text = \"Hola mundo\"\n",
    "len(text)"
   ]
  },
  {
   "cell_type": "code",
   "execution_count": 36,
   "metadata": {},
   "outputs": [
    {
     "data": {
      "text/plain": [
       "True"
      ]
     },
     "execution_count": 36,
     "metadata": {},
     "output_type": "execute_result"
    }
   ],
   "source": [
    "# pertenencia de un elemento \"in\"\n",
    "\n",
    "\"mundo\" in text  \n"
   ]
  },
  {
   "cell_type": "code",
   "execution_count": 37,
   "metadata": {},
   "outputs": [
    {
     "data": {
      "text/plain": [
       "False"
      ]
     },
     "execution_count": 37,
     "metadata": {},
     "output_type": "execute_result"
    }
   ],
   "source": [
    "# no pertenencia\n",
    "\n",
    "\"mundo\" not in text"
   ]
  },
  {
   "cell_type": "code",
   "execution_count": 2,
   "metadata": {},
   "outputs": [
    {
     "name": "stdout",
     "output_type": "stream",
     "text": [
      "<class 'str'>\n",
      "<class 'str'>\n",
      "JULIO BERNE\n",
      "julio berne\n",
      "Julio berne\n",
      "Julio Berne\n",
      "El nombre es:Julio Berne\n"
     ]
    }
   ],
   "source": [
    "# Algunos metodos de los strings\n",
    "\n",
    "nombre = \"Julio Berne\"\n",
    "\n",
    "\n",
    "print(nombre.upper()) #Convierte a mayusculas\n",
    "print(nombre.lower()) #Convierte a minusculas\n",
    "print(nombre.capitalize()) #Convierte la primera letra en mayuscula\n",
    "print(nombre.title()) #Convierte la primera letra de cada palabra en mayuscula\n",
    "\n",
    "# variables en un string\n",
    "\n",
    "first_name = \"julio\"\n",
    "last_name = \"berne\"\n",
    "\n",
    "print(f\"El nombre es:{first_name.title()} {last_name.title()}\") #Python 3.6+\n",
    "\n"
   ]
  },
  {
   "cell_type": "code",
   "execution_count": 11,
   "metadata": {},
   "outputs": [
    {
     "name": "stdout",
     "output_type": "stream",
     "text": [
      "False\n",
      "True\n",
      "False\n",
      "True\n"
     ]
    }
   ],
   "source": [
    "#metodo islower(). Devuelve true si un texto esta en minuscula\n",
    "text = \"El sol salio tarde\"\n",
    "text2 = \"el sol salio tarde\"\n",
    "\n",
    "print(text.islower())\n",
    "print(text2.islower())\n",
    "\n",
    "#metodo isupper(). Devuelve true si un texto esta en mayuscula\n",
    "\n",
    "text2 = text2.upper()\n",
    "print(text.isupper())\n",
    "print(text2.isupper())\n"
   ]
  },
  {
   "cell_type": "markdown",
   "metadata": {},
   "source": [
    "#### Secuencias de escape"
   ]
  },
  {
   "cell_type": "code",
   "execution_count": 6,
   "metadata": {},
   "outputs": [
    {
     "name": "stdout",
     "output_type": "stream",
     "text": [
      "Python\n",
      "---------------------------------------------------------------\n",
      "\tPython\n",
      "---------------------------------------------------------------\n",
      "Lenguajes:\n",
      "Python\n",
      "C\n",
      "JavaScript\n",
      "---------------------------------------------------------------\n",
      "Lenguajes:\n",
      "\tPython\n",
      "\tC\n",
      "\tJavaScript\n",
      "---------------------------------------------------------------\n",
      "Necesitamos \"escapar\" la comilla doble\n",
      "---------------------------------------------------------------\n",
      "segundos\\minutos\\horas\n"
     ]
    }
   ],
   "source": [
    "#Agregando espacios en blanco a los strings con tabulaciones o saltos de linea\n",
    "print(\"Python\")\n",
    "print(\"---------------------------------------------------------------\")\n",
    "print(\"\\tPython\") #\\t tabulacion\n",
    "print(\"---------------------------------------------------------------\")\n",
    "print(\"Lenguajes:\\nPython\\nC\\nJavaScript\") #\\n salto de linea\n",
    "print(\"---------------------------------------------------------------\")\n",
    "print(\"Lenguajes:\\n\\tPython\\n\\tC\\n\\tJavaScript\") #\\n salto de linea y \\t tabulacion\n",
    "print(\"---------------------------------------------------------------\")\n",
    "print(\"Necesitamos \\\"escapar\\\" la comilla doble\") #sirve para comilla simple tbn\n",
    "print(\"---------------------------------------------------------------\")\n",
    "print(\"segundos\\\\minutos\\\\horas\") # Barra invertida"
   ]
  },
  {
   "cell_type": "code",
   "execution_count": 7,
   "metadata": {},
   "outputs": [
    {
     "name": "stdout",
     "output_type": "stream",
     "text": [
      "\tPython\n",
      "\\tPython\n",
      "---------------------------------------------------------------\n",
      "Lenguajes:\n",
      "Python\n",
      "C\n",
      "JavaScript\n",
      "Lenguajes:\\nPython\\nC\\nJavaScript\n",
      "---------------------------------------------------------------\n"
     ]
    }
   ],
   "source": [
    "# raw data: Se utiliza para anular los caracteres especiales\n",
    "print(\"\\tPython\") #\\t tabulacion\n",
    "print(r\"\\tPython\")\n",
    "print(\"---------------------------------------------------------------\")\n",
    "print(\"Lenguajes:\\nPython\\nC\\nJavaScript\") #\\n salto de linea\n",
    "print(r\"Lenguajes:\\nPython\\nC\\nJavaScript\")\n",
    "print(\"---------------------------------------------------------------\")\n"
   ]
  },
  {
   "cell_type": "code",
   "execution_count": 11,
   "metadata": {},
   "outputs": [
    {
     "name": "stdout",
     "output_type": "stream",
     "text": [
      "Python \n",
      "7\n",
      "Python\n",
      "6\n",
      "Python\n",
      "6\n",
      "---------------------------------------------------------------\n",
      " Python\n",
      "7\n",
      "Python\n",
      "6\n",
      "Python\n",
      "6\n",
      "---------------------------------------------------------------\n",
      "   Python   \n",
      "12\n",
      "Python\n",
      "6\n",
      "Python\n",
      "6\n"
     ]
    }
   ],
   "source": [
    "# Otro metodo rstrip(). Eliminar espacios en blanco\n",
    "lenguaje = \"Python \"\n",
    "print(lenguaje)\n",
    "print(len(lenguaje))\n",
    "print(lenguaje.rstrip())\n",
    "print(len(lenguaje.rstrip()))\n",
    "#para conservar el cambio se debe asignar a la variable\n",
    "lenguaje = lenguaje.rstrip()\n",
    "print(lenguaje)\n",
    "print(len(lenguaje))\n",
    "\n",
    "# Otro metodo lstrip(). Eliminar espacios en blanco a la izquierda\n",
    "print(\"---------------------------------------------------------------\")\n",
    "\n",
    "lenguaje = \" Python\"\n",
    "print(lenguaje)\n",
    "print(len(lenguaje))\n",
    "print(lenguaje.lstrip())\n",
    "print(len(lenguaje.lstrip()))\n",
    "#para conservar el cambio se debe asignar a la variable\n",
    "lenguaje = lenguaje.lstrip()\n",
    "print(lenguaje)\n",
    "print(len(lenguaje))\n",
    "\n",
    "# Otro metodo strip(). Eliminar espacios en blanco en ambos lados\n",
    "print(\"---------------------------------------------------------------\")\n",
    "\n",
    "lenguaje = \"   Python   \"\n",
    "print(lenguaje)\n",
    "print(len(lenguaje))\n",
    "print(lenguaje.strip())\n",
    "print(len(lenguaje.strip()))\n",
    "#para conservar el cambio se debe asignar a la variable\n",
    "lenguaje = lenguaje.strip()\n",
    "print(lenguaje)\n",
    "print(len(lenguaje))"
   ]
  },
  {
   "cell_type": "code",
   "execution_count": 12,
   "metadata": {},
   "outputs": [
    {
     "name": "stdout",
     "output_type": "stream",
     "text": [
      "python.org\n",
      "www.python\n",
      "python\n"
     ]
    }
   ],
   "source": [
    "# metodo removeprefix(). Eliminar prefijo\n",
    "direccion_web = \"www.python.org\"\n",
    "print(direccion_web.removeprefix(\"www.\"))\n",
    "# metodo removesuffix(). Eliminar sufijo\n",
    "print(direccion_web.removesuffix(\".org\"))\n",
    "#guardar los cambios\n",
    "direccion_web = direccion_web.removeprefix(\"www.\")\n",
    "direccion_web = direccion_web.removesuffix(\".org\")\n",
    "print(direccion_web)\n",
    "\n"
   ]
  },
  {
   "cell_type": "code",
   "execution_count": 13,
   "metadata": {},
   "outputs": [
    {
     "name": "stdout",
     "output_type": "stream",
     "text": [
      "El sol salio tarde\n",
      "El sol salio temprano\n"
     ]
    }
   ],
   "source": [
    "# metodo replace(). Cambia una palabra por otra\n",
    "\n",
    "print(text)\n",
    "\n",
    "print(text.replace(\"tarde\",\"temprano\"))"
   ]
  },
  {
   "cell_type": "code",
   "execution_count": 4,
   "metadata": {},
   "outputs": [
    {
     "name": "stdout",
     "output_type": "stream",
     "text": [
      "Sebastian Bariloche 27\n",
      "Mi nombre es Sebastian, naci en Bariloche y tengo 27 años\n"
     ]
    }
   ],
   "source": [
    "# Concatenacion\n",
    "NOMBRE = \"Sebastian\"\n",
    "LUGAR = \"Bariloche\"\n",
    "EDAD = \"27\"\n",
    "\n",
    "\n",
    "print(NOMBRE,LUGAR,EDAD)\n",
    "print(\"Mi nombre es \"+NOMBRE+\", naci en \"+LUGAR+\" y tengo \"+EDAD+\" años\")\n"
   ]
  },
  {
   "cell_type": "code",
   "execution_count": 4,
   "metadata": {},
   "outputs": [
    {
     "name": "stdout",
     "output_type": "stream",
     "text": [
      "7\n",
      "-1\n"
     ]
    }
   ],
   "source": [
    "# Metodo find()\n",
    "# Devuelve la ubicacion de la primera coincidencia. Si no hay coincidencia da -1\n",
    "\n",
    "cadena = \"Hoy es viernes 5 de abril. El 11 de abril es mi cumpleaños\"\n",
    "\n",
    "print(cadena.find(\"viernes\"))\n",
    "print(cadena.find(\"jueves\"))\n"
   ]
  },
  {
   "cell_type": "code",
   "execution_count": 8,
   "metadata": {},
   "outputs": [
    {
     "name": "stdout",
     "output_type": "stream",
     "text": [
      "20\n",
      "36\n"
     ]
    }
   ],
   "source": [
    "# Metodo rfind()\n",
    "# Devuelve la ubicacion de la ultima coincidencia. Si no hay coincidencia da -1\n",
    "\n",
    "cadena = \"Hoy es viernes 5 de abril. El 11 de abril es mi cumpleaños\"\n",
    "\n",
    "print(cadena.find(\"abril\"))\n",
    "print(cadena.rfind(\"abril\"))\n",
    "\n"
   ]
  },
  {
   "cell_type": "markdown",
   "metadata": {},
   "source": [
    "## Operadores Aritmeticos"
   ]
  },
  {
   "cell_type": "code",
   "execution_count": 13,
   "metadata": {},
   "outputs": [
    {
     "name": "stdout",
     "output_type": "stream",
     "text": [
      "suma: 4\n",
      "resta: 0\n",
      "producto: 4\n",
      "division: 1.0\n",
      "8\n",
      "-7\n",
      "6\n",
      "1\n"
     ]
    }
   ],
   "source": [
    "# operaciones con enteros\n",
    "suma = 2+2\n",
    "resta = 2-2\n",
    "producto = 2*2\n",
    "division = 2/2\n",
    "print(f\"suma: {suma}\\nresta: {resta}\\nproducto: {producto}\\ndivision: {division}\")\n",
    "#division devuelve un float\n",
    "potencia = 2**3\n",
    "print(potencia)\n",
    "negacion = -7\n",
    "print(negacion)\n",
    "div_entera = 13//2\n",
    "print(div_entera)\n",
    "modulo = 13%2\n",
    "print(modulo)\n"
   ]
  },
  {
   "cell_type": "markdown",
   "metadata": {},
   "source": [
    "## Operadores de Asignacion"
   ]
  },
  {
   "cell_type": "code",
   "execution_count": 14,
   "metadata": {},
   "outputs": [
    {
     "name": "stdout",
     "output_type": "stream",
     "text": [
      "10\n",
      "15\n",
      "12\n",
      "120\n",
      "12.0\n",
      "144.0\n",
      "154.0\n",
      "12.0\n",
      "0.0\n"
     ]
    }
   ],
   "source": [
    "a = 10  # Asigna un valor a una variable\n",
    "print(a)\n",
    "a+=5 # Suma a la variable izquierda el valor de la derecha\n",
    "print(a)\n",
    "a-=3 # Resta a la variable izquierda el valor de la derecha\n",
    "print(a)\n",
    "a*=10 # Multiplica a la variable izquierda el valor de la derecha\n",
    "print(a)\n",
    "a/=10 # Divide a la variable izquierda el valor de la derecha\n",
    "print(a)\n",
    "a**=2 # Eleva a la variable izquierda el valor de la derecha\n",
    "print(a)\n",
    "a+=10\n",
    "print(a)\n",
    "a//=12 # Division entera\n",
    "print(a)\n",
    "a%=12 # Resto de una division\n",
    "print(a)"
   ]
  },
  {
   "cell_type": "markdown",
   "metadata": {},
   "source": [
    "## Operadores Relacionales"
   ]
  },
  {
   "cell_type": "code",
   "execution_count": 15,
   "metadata": {},
   "outputs": [
    {
     "name": "stdout",
     "output_type": "stream",
     "text": [
      "True\n",
      "True\n",
      "False\n",
      "True\n",
      "True\n",
      "True\n"
     ]
    }
   ],
   "source": [
    "print(10==10) #igual\n",
    "print(10!=9) #distinto\n",
    "print(10<9) #menor que\n",
    "print(10>9) #mayor que\n",
    "print(9<=9) #menor o igual que\n",
    "print(10>=9) #mayor o igual que"
   ]
  },
  {
   "cell_type": "markdown",
   "metadata": {},
   "source": [
    "## Operadores Logicos\n"
   ]
  },
  {
   "cell_type": "code",
   "execution_count": 18,
   "metadata": {},
   "outputs": [
    {
     "name": "stdout",
     "output_type": "stream",
     "text": [
      "True\n",
      "False\n",
      "False\n",
      "False\n"
     ]
    }
   ],
   "source": [
    "# Operador AND\n",
    "a=True\n",
    "b=False\n",
    "\n",
    "print(a and a)\n",
    "print(a and b)\n",
    "print(b and a)\n",
    "print(b and b)"
   ]
  },
  {
   "cell_type": "code",
   "execution_count": 22,
   "metadata": {},
   "outputs": [
    {
     "name": "stdout",
     "output_type": "stream",
     "text": [
      "Los datos ingresados son correctos?: True\n"
     ]
    }
   ],
   "source": [
    "# ejemplo.\n",
    "usuario = input(\"Ingrese nombre de usuario: \")\n",
    "contraseña = input(\"Ingrese contraseña: \")\n",
    "evaluacion = (usuario==USUARIO) and (contraseña==CONTRASEÑA)\n",
    "\n",
    "print(\"Los datos ingresados son correctos?:\",evaluacion)\n",
    "\n"
   ]
  },
  {
   "cell_type": "code",
   "execution_count": 19,
   "metadata": {},
   "outputs": [
    {
     "name": "stdout",
     "output_type": "stream",
     "text": [
      "True\n",
      "True\n",
      "True\n",
      "False\n"
     ]
    }
   ],
   "source": [
    "# Operador OR\n",
    "a=True\n",
    "b=False\n",
    "\n",
    "print(a or a)\n",
    "print(a or b)\n",
    "print(b or a)\n",
    "print(b or b)"
   ]
  },
  {
   "cell_type": "code",
   "execution_count": 20,
   "metadata": {},
   "outputs": [
    {
     "name": "stdout",
     "output_type": "stream",
     "text": [
      "False\n",
      "True\n"
     ]
    }
   ],
   "source": [
    "# Operador NOT\n",
    "a=True\n",
    "b=False\n",
    "\n",
    "print(not a)\n",
    "print(not b)\n"
   ]
  },
  {
   "cell_type": "markdown",
   "metadata": {},
   "source": [
    "## Conversion de tipos"
   ]
  },
  {
   "cell_type": "code",
   "execution_count": 21,
   "metadata": {},
   "outputs": [
    {
     "name": "stdout",
     "output_type": "stream",
     "text": [
      "<class 'bool'>\n",
      "<class 'int'>\n",
      "6\n",
      "<class 'int'>\n"
     ]
    }
   ],
   "source": [
    "# implicita\n",
    "print(type(True))\n",
    "print(type(5))\n",
    "a = True + 5\n",
    "\n",
    "print(a)\n",
    "print(type(a))\n",
    "# convierte un float en un int de manera implicita"
   ]
  },
  {
   "cell_type": "code",
   "execution_count": 24,
   "metadata": {},
   "outputs": [
    {
     "name": "stdout",
     "output_type": "stream",
     "text": [
      "<class 'int'>\n",
      "<class 'bool'>\n",
      "True\n"
     ]
    }
   ],
   "source": [
    "# Explicita\n",
    "\n",
    "print(type(1))\n",
    "print(type(bool(1)))\n",
    "print(bool(1))\n"
   ]
  },
  {
   "cell_type": "code",
   "execution_count": 4,
   "metadata": {},
   "outputs": [
    {
     "name": "stdout",
     "output_type": "stream",
     "text": [
      "255\n"
     ]
    }
   ],
   "source": [
    "#interesante. La funcion int admite la base sel numero que se va a convertir\n",
    "\n",
    "num = \"ff\" # es un string\n",
    "print(int(num,16))\n"
   ]
  }
 ],
 "metadata": {
  "kernelspec": {
   "display_name": "Python 3",
   "language": "python",
   "name": "python3"
  },
  "language_info": {
   "codemirror_mode": {
    "name": "ipython",
    "version": 3
   },
   "file_extension": ".py",
   "mimetype": "text/x-python",
   "name": "python",
   "nbconvert_exporter": "python",
   "pygments_lexer": "ipython3",
   "version": "3.12.0"
  }
 },
 "nbformat": 4,
 "nbformat_minor": 2
}

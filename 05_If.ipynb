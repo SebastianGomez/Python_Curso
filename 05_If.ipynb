{
 "cells": [
  {
   "cell_type": "markdown",
   "metadata": {},
   "source": [
    "## Condicion If"
   ]
  },
  {
   "cell_type": "code",
   "execution_count": 1,
   "metadata": {},
   "outputs": [
    {
     "name": "stdout",
     "output_type": "stream",
     "text": [
      "Audi\n",
      "BMW\n",
      "Mercedez\n",
      "Fiat\n",
      "Peugeot\n"
     ]
    }
   ],
   "source": [
    "# ejemplo de aplicacion\n",
    "\n",
    "autos = [\"audi\",\"bmw\",\"mercedez\",\"fiat\",\"peugeot\"]\n",
    "\n",
    "for auto in autos:\n",
    "    if auto == \"bmw\":\n",
    "        print(auto.upper())\n",
    "    else:\n",
    "        print(auto.title())\n",
    "    "
   ]
  },
  {
   "cell_type": "code",
   "execution_count": 2,
   "metadata": {},
   "outputs": [
    {
     "name": "stdout",
     "output_type": "stream",
     "text": [
      "No hay Jeep\n"
     ]
    }
   ],
   "source": [
    "# probando la desigualdad\n",
    "n=0\n",
    "for auto in autos:\n",
    "    if auto != \"jeep\":\n",
    "        n=n+1\n",
    "if n==0:\n",
    "    print(\"Hay Jeep\")\n",
    "else:\n",
    "    print(\"No hay Jeep\")\n",
    "\n",
    "    #Este ejercicio sirve para ver el uso de != pero la logica no esta bien \n",
    "    #planteada"
   ]
  },
  {
   "cell_type": "code",
   "execution_count": 6,
   "metadata": {},
   "outputs": [
    {
     "data": {
      "text/plain": [
       "True"
      ]
     },
     "execution_count": 6,
     "metadata": {},
     "output_type": "execute_result"
    }
   ],
   "source": [
    "# evaluacion de variables\n",
    "age = 18\n",
    "age == 18"
   ]
  },
  {
   "cell_type": "code",
   "execution_count": 8,
   "metadata": {},
   "outputs": [
    {
     "data": {
      "text/plain": [
       "False"
      ]
     },
     "execution_count": 8,
     "metadata": {},
     "output_type": "execute_result"
    }
   ],
   "source": [
    "#Evaluacion multiple. Uso de AND\n",
    "age_0 = 22\n",
    "age_1 = 18\n",
    "(age_0>=21) and (age_1>=21)\n",
    "\n",
    "#La primera condicion se cumple, la segunda no"
   ]
  },
  {
   "cell_type": "code",
   "execution_count": 9,
   "metadata": {},
   "outputs": [
    {
     "data": {
      "text/plain": [
       "True"
      ]
     },
     "execution_count": 9,
     "metadata": {},
     "output_type": "execute_result"
    }
   ],
   "source": [
    "age_0 = 22\n",
    "age_1 = 21\n",
    "(age_0>=21) and (age_1>=21)\n",
    "\n",
    "#Las condiciones se cumplen."
   ]
  },
  {
   "cell_type": "code",
   "execution_count": 10,
   "metadata": {},
   "outputs": [
    {
     "data": {
      "text/plain": [
       "True"
      ]
     },
     "execution_count": 10,
     "metadata": {},
     "output_type": "execute_result"
    }
   ],
   "source": [
    "#Evaluacion multiple. Uso de OR\n",
    "age_0 = 22\n",
    "age_1 = 18\n",
    "(age_0>=21) or (age_1>=21)\n",
    "\n",
    "#La primera condicion se cumple, la segunda no"
   ]
  },
  {
   "cell_type": "code",
   "execution_count": 12,
   "metadata": {},
   "outputs": [
    {
     "data": {
      "text/plain": [
       "False"
      ]
     },
     "execution_count": 12,
     "metadata": {},
     "output_type": "execute_result"
    }
   ],
   "source": [
    "age_0 = 18\n",
    "age_1 = 18\n",
    "(age_0>=21) and (age_1>=21)\n",
    "\n",
    "#Ninguna condicion se cumple"
   ]
  },
  {
   "cell_type": "code",
   "execution_count": 3,
   "metadata": {},
   "outputs": [
    {
     "name": "stdout",
     "output_type": "stream",
     "text": [
      "Hay Jeep en la lista\n"
     ]
    }
   ],
   "source": [
    "# Buscar un elemento en una lista\n",
    "autos = [\"audi\",\"bmw\",\"mercedez\",\"fiat\",\"peugeot\",\"jeep\",\"citroen\"]\n",
    "\n",
    "for auto in autos:\n",
    "    if auto == \"jeep\":\n",
    "        print(f\"Hay {auto.title()} en la lista\")\n"
   ]
  },
  {
   "cell_type": "code",
   "execution_count": 6,
   "metadata": {},
   "outputs": [
    {
     "data": {
      "text/plain": [
       "True"
      ]
     },
     "execution_count": 6,
     "metadata": {},
     "output_type": "execute_result"
    }
   ],
   "source": [
    "# existe una forma mas compacta de buscar un elemento en una lista\n",
    "\n",
    "\"jeep\" in autos"
   ]
  },
  {
   "cell_type": "code",
   "execution_count": 9,
   "metadata": {},
   "outputs": [
    {
     "name": "stdout",
     "output_type": "stream",
     "text": [
      "Jeep esta en la lista\n"
     ]
    }
   ],
   "source": [
    "#podemos utilizar esto para realizar el programa anterior de manera mas compacta\n",
    "\n",
    "if \"jeep\" in autos:\n",
    "    print(\"Jeep esta en la lista\")\n",
    "else:\n",
    "    print(\"No esta en la lista\")"
   ]
  },
  {
   "cell_type": "code",
   "execution_count": 5,
   "metadata": {},
   "outputs": [
    {
     "name": "stdout",
     "output_type": "stream",
     "text": [
      "No esta en la lista\n"
     ]
    }
   ],
   "source": [
    "if \"kia\" not in autos:\n",
    "    print(\"No esta en la lista\")"
   ]
  },
  {
   "cell_type": "markdown",
   "metadata": {},
   "source": [
    "# La Instrucción if "
   ]
  },
  {
   "cell_type": "code",
   "execution_count": 17,
   "metadata": {},
   "outputs": [
    {
     "name": "stdout",
     "output_type": "stream",
     "text": [
      "tenes edad para votar\n",
      "¿ya votaste?\n"
     ]
    }
   ],
   "source": [
    "# Instruccion If simple\n",
    "\n",
    "edad = 19\n",
    "\n",
    "if edad>=18:\n",
    "    print(\"tenes edad para votar\")\n",
    "    print(\"¿ya votaste?\")\n",
    "\n",
    "# Si el if es false se ignora lo que esta identado"
   ]
  },
  {
   "cell_type": "code",
   "execution_count": 19,
   "metadata": {},
   "outputs": [
    {
     "name": "stdout",
     "output_type": "stream",
     "text": [
      "Aun no tienes edad para votar\n",
      "Regresa cuando tengas 18 años\n"
     ]
    }
   ],
   "source": [
    "# Instruccion if-else\n",
    "edad = 17\n",
    "\n",
    "if edad>=18:\n",
    "    print(\"tenes edad para votar\")\n",
    "    print(\"¿ya votaste?\")\n",
    "else:\n",
    "    print(\"Aun no tienes edad para votar\")\n",
    "    print(\"Regresa cuando tengas 18 años\")\n",
    "\n",
    "# Si el if es false se ignora lo que esta identado\n"
   ]
  },
  {
   "cell_type": "code",
   "execution_count": 25,
   "metadata": {},
   "outputs": [
    {
     "name": "stdout",
     "output_type": "stream",
     "text": [
      "La entrada sale 1000 pesos\n"
     ]
    }
   ],
   "source": [
    "# La cadena if-elif-else\n",
    "edad = 20\n",
    "\n",
    "if edad<4:\n",
    "    print(\"La entrada es gratis\")\n",
    "elif edad<18:\n",
    "    print(\"La entrada sale 500 pesos\")\n",
    "else:\n",
    "    print(\"La entrada sale 1000 pesos\")\n",
    "\n"
   ]
  }
 ],
 "metadata": {
  "kernelspec": {
   "display_name": "Python 3",
   "language": "python",
   "name": "python3"
  },
  "language_info": {
   "codemirror_mode": {
    "name": "ipython",
    "version": 3
   },
   "file_extension": ".py",
   "mimetype": "text/x-python",
   "name": "python",
   "nbconvert_exporter": "python",
   "pygments_lexer": "ipython3",
   "version": "3.9.13"
  }
 },
 "nbformat": 4,
 "nbformat_minor": 2
}

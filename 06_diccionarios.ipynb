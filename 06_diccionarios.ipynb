{
 "cells": [
  {
   "cell_type": "markdown",
   "metadata": {},
   "source": [
    "# Diccionario"
   ]
  },
  {
   "cell_type": "code",
   "execution_count": 3,
   "metadata": {},
   "outputs": [
    {
     "name": "stdout",
     "output_type": "stream",
     "text": [
      "<class 'dict'>\n",
      "{'Nombre': 'Naranja', 'Precio': 5}\n",
      "Naranja\n",
      "5\n"
     ]
    }
   ],
   "source": [
    "#  diccionario = {clave1:valor1,clave2:valor2,...}\n",
    "fruta = {\"Nombre\":\"Naranja\",\"Precio\": 5}\n",
    "\n",
    "print(type(fruta))\n",
    "print(fruta)\n",
    "print(fruta[\"Nombre\"])\n",
    "print(fruta[\"Precio\"])\n",
    "\n"
   ]
  },
  {
   "cell_type": "code",
   "execution_count": 5,
   "metadata": {},
   "outputs": [
    {
     "name": "stdout",
     "output_type": "stream",
     "text": [
      "<class 'dict'>\n",
      "{'Nombre': 'Naranja', 'Precio': '5', 'Tamaño': ['chico', 'mediano', 'grande']}\n",
      "Naranja\n",
      "<class 'str'>\n",
      "5\n",
      "<class 'str'>\n",
      "['chico', 'mediano', 'grande']\n",
      "<class 'list'>\n"
     ]
    }
   ],
   "source": [
    "fruta = {\"Nombre\":\"Naranja\",\"Precio\": \"5\",\"Tamaño\":[\"chico\",\"mediano\",\"grande\"]}\n",
    "\n",
    "print(type(fruta))\n",
    "print(fruta)\n",
    "\n",
    "print(fruta[\"Nombre\"])\n",
    "print(type(fruta[\"Nombre\"]))\n",
    "print(fruta[\"Precio\"])\n",
    "print(type(fruta[\"Precio\"]))\n",
    "print(fruta[\"Tamaño\"])\n",
    "print(type(fruta[\"Tamaño\"]))"
   ]
  },
  {
   "cell_type": "markdown",
   "metadata": {},
   "source": [
    "### Añadir pares keys-valor al diccionario"
   ]
  },
  {
   "cell_type": "code",
   "execution_count": 10,
   "metadata": {},
   "outputs": [
    {
     "name": "stdout",
     "output_type": "stream",
     "text": [
      "{'Nombre': 'Naranja', 'Precio': '5'}\n",
      "{'Nombre': 'Naranja', 'Precio': '5', 'Cantidad': 10}\n",
      "{'Nombre': 'Naranja', 'Precio': '5', 'Cantidad': 10, 'Estacion': 'Primavera'}\n"
     ]
    }
   ],
   "source": [
    "fruta = {\"Nombre\":\"Naranja\",\"Precio\": \"5\"}\n",
    "\n",
    "print(fruta)\n",
    "\n",
    "fruta[\"Cantidad\"] = 10\n",
    "\n",
    "print(fruta)\n",
    "\n",
    "fruta[\"Estacion\"] = \"Primavera\"\n",
    "\n",
    "print(fruta)\n"
   ]
  },
  {
   "cell_type": "markdown",
   "metadata": {},
   "source": [
    "### Crear diccionario vacio"
   ]
  },
  {
   "cell_type": "code",
   "execution_count": 14,
   "metadata": {},
   "outputs": [
    {
     "name": "stdout",
     "output_type": "stream",
     "text": [
      "<class 'dict'>\n",
      "0\n",
      "2\n"
     ]
    }
   ],
   "source": [
    "frutas = {}\n",
    "print(type(frutas))\n",
    "print(len(frutas))\n",
    "\n",
    "frutas[\"Nombre\"] = \"Naranja\"\n",
    "frutas[\"Precio\"] = 10\n",
    "print(len(frutas))\n",
    "\n"
   ]
  },
  {
   "cell_type": "markdown",
   "metadata": {},
   "source": [
    "### Modificando valores del diccionario"
   ]
  },
  {
   "cell_type": "code",
   "execution_count": 16,
   "metadata": {},
   "outputs": [
    {
     "name": "stdout",
     "output_type": "stream",
     "text": [
      "{'Nombre': 'Naranja', 'Precio': 10}\n",
      "{'Nombre': 'Naranja', 'Precio': 20}\n"
     ]
    }
   ],
   "source": [
    "print(frutas)\n",
    "\n",
    "frutas[\"Precio\"] = 20\n",
    "\n",
    "print(frutas)"
   ]
  },
  {
   "cell_type": "code",
   "execution_count": 19,
   "metadata": {},
   "outputs": [
    {
     "name": "stdout",
     "output_type": "stream",
     "text": [
      "La posicion original del auto en el eje x es: 0\n",
      "La posicion actual del auto en el eje x es: 2\n"
     ]
    }
   ],
   "source": [
    "# ejemplo. Modifiquemos la velocidad\n",
    "\n",
    "auto_juguete = {\"Pos_x\":0,\"Pos_y\":25,\"Velocidad\":\"media\"}\n",
    "print(f\"La posicion original del auto en el eje x es: {auto_juguete['Pos_x']}\")\n",
    "\n",
    "#moveremos el auto a la derecha de acuerdo a la velovidad\n",
    "\n",
    "if auto_juguete[\"Velocidad\"] == \"baja\":\n",
    "    x_incremento = 1\n",
    "elif auto_juguete[\"Velocidad\"] == \"media\":\n",
    "    x_incremento = 2\n",
    "else:\n",
    "    x_incremento = 3\n",
    "\n",
    "auto_juguete[\"Pos_x\"] = auto_juguete[\"Pos_x\"] + x_incremento\n",
    "\n",
    "print(f\"La posicion actual del auto en el eje x es: {auto_juguete['Pos_x']}\")"
   ]
  },
  {
   "cell_type": "markdown",
   "metadata": {},
   "source": [
    "### Remover un elemento del diccionario"
   ]
  },
  {
   "cell_type": "code",
   "execution_count": 2,
   "metadata": {},
   "outputs": [
    {
     "name": "stdout",
     "output_type": "stream",
     "text": [
      "{'Nombre': 'Naranja', 'Precio': '5', 'Tamaño': ['chico', 'mediano', 'grande']}\n",
      "{'Nombre': 'Naranja', 'Precio': '5'}\n"
     ]
    }
   ],
   "source": [
    "fruta = {\"Nombre\":\"Naranja\",\"Precio\": \"5\",\"Tamaño\":[\"chico\",\"mediano\",\"grande\"]}\n",
    "print(fruta)\n",
    "\n",
    "del fruta[\"Tamaño\"]\n",
    "print(fruta)\n"
   ]
  },
  {
   "cell_type": "code",
   "execution_count": 4,
   "metadata": {},
   "outputs": [
    {
     "name": "stdout",
     "output_type": "stream",
     "text": [
      "El lenguaje favorito de Lucas es: Rust\n"
     ]
    }
   ],
   "source": [
    "# otro formato utilizado en diccionarios\n",
    "\n",
    "lenguaje_favorito = {\n",
    "    \"seba\":\"Python\",\n",
    "    \"juan\":\"C\",\n",
    "    \"martin\":\"Java\",\n",
    "    \"lucas\":\"Rust\",\n",
    "}\n",
    "\n",
    "lenguaje = lenguaje_favorito[\"lucas\"].title()\n",
    "\n",
    "print(f\"El lenguaje favorito de Lucas es: {lenguaje}\")\n"
   ]
  },
  {
   "cell_type": "markdown",
   "metadata": {},
   "source": [
    "### Uso de get() para acceder a los valores"
   ]
  },
  {
   "cell_type": "code",
   "execution_count": 8,
   "metadata": {},
   "outputs": [
    {
     "ename": "NameError",
     "evalue": "name 'fede' is not defined",
     "output_type": "error",
     "traceback": [
      "\u001b[1;31m---------------------------------------------------------------------------\u001b[0m",
      "\u001b[1;31mNameError\u001b[0m                                 Traceback (most recent call last)",
      "Cell \u001b[1;32mIn[8], line 8\u001b[0m\n\u001b[0;32m      1\u001b[0m lenguaje_favorito \u001b[38;5;241m=\u001b[39m {\n\u001b[0;32m      2\u001b[0m     \u001b[38;5;124m\"\u001b[39m\u001b[38;5;124mseba\u001b[39m\u001b[38;5;124m\"\u001b[39m:\u001b[38;5;124m\"\u001b[39m\u001b[38;5;124mPython\u001b[39m\u001b[38;5;124m\"\u001b[39m,\n\u001b[0;32m      3\u001b[0m     \u001b[38;5;124m\"\u001b[39m\u001b[38;5;124mjuan\u001b[39m\u001b[38;5;124m\"\u001b[39m:\u001b[38;5;124m\"\u001b[39m\u001b[38;5;124mC\u001b[39m\u001b[38;5;124m\"\u001b[39m,\n\u001b[0;32m      4\u001b[0m     \u001b[38;5;124m\"\u001b[39m\u001b[38;5;124mmartin\u001b[39m\u001b[38;5;124m\"\u001b[39m:\u001b[38;5;124m\"\u001b[39m\u001b[38;5;124mJava\u001b[39m\u001b[38;5;124m\"\u001b[39m,\n\u001b[0;32m      5\u001b[0m     \u001b[38;5;124m\"\u001b[39m\u001b[38;5;124mlucas\u001b[39m\u001b[38;5;124m\"\u001b[39m:\u001b[38;5;124m\"\u001b[39m\u001b[38;5;124mRust\u001b[39m\u001b[38;5;124m\"\u001b[39m,\n\u001b[0;32m      6\u001b[0m }\n\u001b[1;32m----> 8\u001b[0m \u001b[38;5;28mprint\u001b[39m(lenguaje_favorito[\u001b[43mfede\u001b[49m])\n\u001b[0;32m     10\u001b[0m \u001b[38;5;66;03m#dara un error porque no encuentra la key\u001b[39;00m\n",
      "\u001b[1;31mNameError\u001b[0m: name 'fede' is not defined"
     ]
    }
   ],
   "source": [
    "lenguaje_favorito = {\n",
    "    \"seba\":\"Python\",\n",
    "    \"juan\":\"C\",\n",
    "    \"martin\":\"Java\",\n",
    "    \"lucas\":\"Rust\",\n",
    "}\n",
    "\n",
    "print(lenguaje_favorito[fede])\n",
    "\n",
    "#dara un error porque no encuentra la key\n",
    "\n"
   ]
  },
  {
   "cell_type": "code",
   "execution_count": 2,
   "metadata": {},
   "outputs": [
    {
     "name": "stdout",
     "output_type": "stream",
     "text": [
      "C\n",
      "No se que lenguaje le gusta\n",
      "None\n"
     ]
    }
   ],
   "source": [
    "lenguaje_favorito = {\n",
    "    \"seba\":\"Python\",\n",
    "    \"juan\":\"C\",\n",
    "    \"martin\":\"Java\",\n",
    "    \"lucas\":\"Rust\",\n",
    "}\n",
    "\n",
    "busqueda = lenguaje_favorito.get(\"juan\",\"No se que lenguaje le gusta\")\n",
    "print(busqueda)\n",
    "\n",
    "busqueda = lenguaje_favorito.get(\"fede\",\"No se que lenguaje le gusta\")\n",
    "print(busqueda)\n",
    "\n",
    "#si no se encuentra la key, se imprime el valor predeterminado\n",
    "\n",
    "busqueda = lenguaje_favorito.get(\"fede\")\n",
    "print(busqueda)"
   ]
  },
  {
   "cell_type": "markdown",
   "metadata": {},
   "source": [
    "## Recorrer un Diccionario"
   ]
  },
  {
   "cell_type": "markdown",
   "metadata": {},
   "source": [
    "### Bucle a traves de todos los pares keys-valor"
   ]
  },
  {
   "cell_type": "code",
   "execution_count": 3,
   "metadata": {},
   "outputs": [
    {
     "name": "stdout",
     "output_type": "stream",
     "text": [
      "\n",
      "La key es: Nombre_usuario\n",
      "El dato es: La Joya\n",
      "\n",
      "La key es: Nombre\n",
      "El dato es: Rodrigo\n",
      "\n",
      "La key es: Apellido\n",
      "El dato es: Palacios\n"
     ]
    }
   ],
   "source": [
    "# supongamos un diccionario que almacene los datos de los usuarios\n",
    "# metodo items()\n",
    "datos = {\n",
    "    \"Nombre_usuario\":\"La Joya\",\n",
    "    \"Nombre\":\"Rodrigo\",\n",
    "    \"Apellido\":\"Palacios\",\n",
    "    }\n",
    "\n",
    "for key,dato in datos.items():\n",
    "    print(f\"\\nLa key es: {key}\")\n",
    "    print(f\"El dato es: {dato}\")\n",
    "\n",
    "\n"
   ]
  },
  {
   "cell_type": "code",
   "execution_count": 7,
   "metadata": {},
   "outputs": [
    {
     "name": "stdout",
     "output_type": "stream",
     "text": [
      "El lenguaje favorito de Seba es Python\n",
      "El lenguaje favorito de Juan es C\n",
      "El lenguaje favorito de Martin es Java\n",
      "El lenguaje favorito de Lucas es Rust\n"
     ]
    }
   ],
   "source": [
    "for nombre,lenguaje in lenguaje_favorito.items():\n",
    "    print(f\"El lenguaje favorito de {nombre.title()} es {lenguaje}\")"
   ]
  },
  {
   "cell_type": "markdown",
   "metadata": {},
   "source": [
    "### Recorrer todas las keys en un diccionario. Metodo keys()"
   ]
  },
  {
   "cell_type": "code",
   "execution_count": 20,
   "metadata": {},
   "outputs": [
    {
     "name": "stdout",
     "output_type": "stream",
     "text": [
      "Seba\n",
      "Juan\n",
      "Martin\n",
      "Lucas\n"
     ]
    }
   ],
   "source": [
    "for name in lenguaje_favorito.keys():\n",
    "    print(name.title())\n",
    "\n",
    "# el metodo keys es el comportamiento por defecto, aunque no estuviera\n",
    "#explicito, se comportaria igual"
   ]
  },
  {
   "cell_type": "code",
   "execution_count": 25,
   "metadata": {},
   "outputs": [
    {
     "name": "stdout",
     "output_type": "stream",
     "text": [
      "Hola seba\n",
      "Hola juan\n",
      "A mi tambien me gusta el C\n",
      "Hola sergio\n",
      "Hola martin\n",
      "A mi tambien me gusta el Java\n",
      "Hola marcelo\n",
      "Hola lucas\n",
      "A mi tambien me gusta el Rust\n",
      "Hola pedro\n",
      "No fue encuestado\n"
     ]
    }
   ],
   "source": [
    "# ejemplo de aplicacion\n",
    "\n",
    "lenguaje_favorito = {\n",
    "    \"seba\":\"Python\",\n",
    "    \"juan\":\"C\",\n",
    "    \"sergio\":\"C++\",\n",
    "    \"martin\":\"Java\",\n",
    "    \"marcelo\":\"Cobol\",\n",
    "    \"lucas\":\"Rust\",\n",
    "    \"pedro\":\"Java Script\",\n",
    "}\n",
    "\n",
    "amigos = [\"juan\",\"martin\",\"lucas\"]\n",
    "for name in lenguaje_favorito.keys():\n",
    "    print(f\"Hola {name}\")\n",
    "    if name in amigos:\n",
    "        print(f\"A mi tambien me gusta el {lenguaje_favorito[name]}\")\n",
    "\n",
    "if \"pablo\" not in lenguaje_favorito:\n",
    "    print(f\"No fue encuestado\")"
   ]
  },
  {
   "cell_type": "markdown",
   "metadata": {},
   "source": [
    "### Recorrer las keys en un orden determinado"
   ]
  },
  {
   "cell_type": "code",
   "execution_count": 33,
   "metadata": {},
   "outputs": [
    {
     "name": "stdout",
     "output_type": "stream",
     "text": [
      "['juan', 'lucas', 'marcelo', 'martin', 'pedro', 'seba', 'sergio']\n",
      "dict_keys(['seba', 'juan', 'sergio', 'martin', 'marcelo', 'lucas', 'pedro'])\n"
     ]
    }
   ],
   "source": [
    "#podemos ordenar el diccionario para luego mostrarlo en orden usando la funcion\n",
    "# sorted()\n",
    "\n",
    "lenguaje_favorito = {\n",
    "    \"seba\":\"Python\",\n",
    "    \"juan\":\"C\",\n",
    "    \"sergio\":\"C++\",\n",
    "    \"martin\":\"Java\",\n",
    "    \"marcelo\":\"Cobol\",\n",
    "    \"lucas\":\"Rust\",\n",
    "    \"pedro\":\"Java Script\",\n",
    "}\n",
    "\n",
    "print(sorted(lenguaje_favorito.keys()))\n",
    "print(lenguaje_favorito.keys())\n",
    "#podemos ver que los cambios de sorted() no se conservan\n",
    "\n"
   ]
  },
  {
   "cell_type": "code",
   "execution_count": 34,
   "metadata": {},
   "outputs": [
    {
     "name": "stdout",
     "output_type": "stream",
     "text": [
      "Hola juan\n",
      "\tA mi tambien me gusta el C\n",
      "Hola lucas\n",
      "\tA mi tambien me gusta el Rust\n",
      "Hola marcelo\n",
      "\tA mi tambien me gusta el Cobol\n",
      "Hola martin\n",
      "\tA mi tambien me gusta el Java\n",
      "Hola pedro\n",
      "\tA mi tambien me gusta el Java Script\n",
      "Hola seba\n",
      "\tA mi tambien me gusta el Python\n",
      "Hola sergio\n",
      "\tA mi tambien me gusta el C++\n"
     ]
    }
   ],
   "source": [
    "for name in sorted(lenguaje_favorito.keys()):\n",
    "    print(f\"Hola {name}\")\n",
    "    print(f\"\\tA mi tambien me gusta el {lenguaje_favorito[name]}\")\n",
    "\n"
   ]
  },
  {
   "cell_type": "markdown",
   "metadata": {},
   "source": [
    "### Recorrer en bucle todos los valores de un diccionario. Metodo values()"
   ]
  },
  {
   "cell_type": "code",
   "execution_count": 5,
   "metadata": {},
   "outputs": [
    {
     "name": "stdout",
     "output_type": "stream",
     "text": [
      "Los lenguajes de programacion almacenados son: \n",
      "Python\n",
      "C\n",
      "C++\n",
      "Java\n",
      "Cobol\n",
      "Rust\n",
      "Java Script\n"
     ]
    }
   ],
   "source": [
    "# Extraeremos todos los valores de un diccionario, sin las keys\n",
    "\n",
    "lenguaje_favorito = {\n",
    "    \"seba\":\"Python\",\n",
    "    \"juan\":\"C\",\n",
    "    \"sergio\":\"C++\",\n",
    "    \"martin\":\"Java\",\n",
    "    \"marcelo\":\"Cobol\",\n",
    "    \"lucas\":\"Rust\",\n",
    "    \"pedro\":\"Java Script\",\n",
    "}\n",
    "\n",
    "print(\"Los lenguajes de programacion almacenados son: \")\n",
    "for lenguaje in lenguaje_favorito.values():\n",
    "    print(lenguaje)\n",
    "\n"
   ]
  },
  {
   "cell_type": "code",
   "execution_count": 7,
   "metadata": {},
   "outputs": [
    {
     "name": "stdout",
     "output_type": "stream",
     "text": [
      "Python\n",
      "Cobol\n",
      "C++\n",
      "Java\n",
      "Rust\n"
     ]
    }
   ],
   "source": [
    "# Si tenemos elementos repetidos, podemos utilizar set, para generar un conjunto\n",
    "# en el cual no se repitan los elementos.\n",
    "\n",
    "lenguaje_favorito = {\n",
    "    \"seba\":\"Python\",\n",
    "    \"juan\":\"C++\",\n",
    "    \"sergio\":\"C++\",\n",
    "    \"martin\":\"Java\",\n",
    "    \"marcelo\":\"Cobol\",\n",
    "    \"lucas\":\"Rust\",\n",
    "    \"pedro\":\"Python\",\n",
    "}\n",
    "\n",
    "for lenguaje in set(lenguaje_favorito.values()):\n",
    "    print(lenguaje)\n"
   ]
  },
  {
   "cell_type": "markdown",
   "metadata": {},
   "source": [
    "### Anidamiento"
   ]
  },
  {
   "cell_type": "code",
   "execution_count": 10,
   "metadata": {},
   "outputs": [
    {
     "name": "stdout",
     "output_type": "stream",
     "text": [
      "{'Modelo': 'Fiesta', 'Color': 'Rojo', 'Año': 2022}\n",
      "{'Modelo': 'Explorer', 'Color': 'Negro', 'Año': 2024}\n",
      "{'Modelo': 'Falcon', 'Color': 'Gris', 'Año': 1990}\n",
      "{'Modelo': 'Kuga', 'Color': 'Verde', 'Año': 2020}\n"
     ]
    }
   ],
   "source": [
    "# Lista de diccionarios\n",
    "\n",
    "ford1 = {\"Modelo\":\"Fiesta\",\"Color\":\"Rojo\",\"Año\":2022}\n",
    "ford2 = {\"Modelo\":\"Explorer\",\"Color\":\"Negro\",\"Año\":2024}\n",
    "ford3 = {\"Modelo\":\"Falcon\",\"Color\":\"Gris\",\"Año\":1990}\n",
    "ford4 = {\"Modelo\":\"Kuga\",\"Color\":\"Verde\",\"Año\":2020}\n",
    "\n",
    "autos = [ford1,ford2,ford3,ford4]\n",
    "\n",
    "for auto in autos:\n",
    "    print(auto)\n",
    "    \n",
    "\n",
    "\n",
    "\n"
   ]
  },
  {
   "cell_type": "code",
   "execution_count": 9,
   "metadata": {},
   "outputs": [
    {
     "name": "stdout",
     "output_type": "stream",
     "text": [
      "Hay un total de 20 autos\n",
      "[{'Modelo': 'Fiesta', 'Color': 'Rojo', 'Año': 2020}, {'Modelo': 'Fiesta', 'Color': 'Rojo', 'Año': 1994}, {'Modelo': 'Fiesta', 'Color': 'Rojo', 'Año': 2002}, {'Modelo': 'Fiesta', 'Color': 'Rojo', 'Año': 1996}, {'Modelo': 'Fiesta', 'Color': 'Rojo', 'Año': 1998}, {'Modelo': 'Fiesta', 'Color': 'Rojo', 'Año': 1980}, {'Modelo': 'Fiesta', 'Color': 'Rojo', 'Año': 2011}, {'Modelo': 'Fiesta', 'Color': 'Rojo', 'Año': 1998}, {'Modelo': 'Fiesta', 'Color': 'Rojo', 'Año': 2013}, {'Modelo': 'Fiesta', 'Color': 'Rojo', 'Año': 2016}, {'Modelo': 'Fiesta', 'Color': 'Rojo', 'Año': 2014}, {'Modelo': 'Fiesta', 'Color': 'Rojo', 'Año': 2023}, {'Modelo': 'Fiesta', 'Color': 'Rojo', 'Año': 2019}, {'Modelo': 'Fiesta', 'Color': 'Rojo', 'Año': 2008}, {'Modelo': 'Fiesta', 'Color': 'Rojo', 'Año': 2024}, {'Modelo': 'Fiesta', 'Color': 'Rojo', 'Año': 2020}, {'Modelo': 'Fiesta', 'Color': 'Rojo', 'Año': 2007}, {'Modelo': 'Fiesta', 'Color': 'Rojo', 'Año': 1991}, {'Modelo': 'Fiesta', 'Color': 'Rojo', 'Año': 1988}, {'Modelo': 'Fiesta', 'Color': 'Rojo', 'Año': 1981}]\n",
      "{'Modelo': 'Explorer', 'Color': 'Verde', 'Año': 2024}\n",
      "{'Modelo': 'Explorer', 'Color': 'Verde', 'Año': 2024}\n",
      "{'Modelo': 'Explorer', 'Color': 'Verde', 'Año': 2024}\n",
      "{'Modelo': 'Explorer', 'Color': 'Verde', 'Año': 2024}\n",
      "{'Modelo': 'Fiesta', 'Color': 'Rojo', 'Año': 1998}\n",
      "{'Modelo': 'Fiesta', 'Color': 'Rojo', 'Año': 1980}\n",
      "{'Modelo': 'Fiesta', 'Color': 'Rojo', 'Año': 2011}\n",
      "{'Modelo': 'Fiesta', 'Color': 'Rojo', 'Año': 1998}\n",
      "{'Modelo': 'Fiesta', 'Color': 'Rojo', 'Año': 2013}\n",
      "{'Modelo': 'Fiesta', 'Color': 'Rojo', 'Año': 2016}\n"
     ]
    }
   ],
   "source": [
    "import random\n",
    "\n",
    "autos = []\n",
    "\n",
    "for n in range(20):\n",
    "    auto_nuevo = {\"Modelo\":\"Fiesta\",\"Color\":\"Rojo\",\"Año\":random.randint(1980,2024)}\n",
    "    autos.append(auto_nuevo)\n",
    "\n",
    "print(f\"Hay un total de {len(autos)} autos\")\n",
    "print(autos)\n",
    "\n",
    "for n in autos[:4]:\n",
    "    if n[\"Modelo\"] == \"Fiesta\":\n",
    "        n[\"Modelo\"] = \"Explorer\"\n",
    "        n[\"Color\"] = \"Verde\"\n",
    "        n[\"Año\"] = 2024\n",
    "\n",
    "for n in autos[:10]:\n",
    "    print(n)\n",
    "\n",
    "\n",
    "    "
   ]
  },
  {
   "cell_type": "code",
   "execution_count": null,
   "metadata": {},
   "outputs": [],
   "source": [
    "# Lista en un diccionario\n",
    "\n"
   ]
  },
  {
   "cell_type": "code",
   "execution_count": 2,
   "metadata": {},
   "outputs": [
    {
     "name": "stdout",
     "output_type": "stream",
     "text": [
      "Su pollo se cocinara a termino medio con los siguientes aliños:\n",
      "chimi\n",
      "limon\n",
      "criolla\n"
     ]
    }
   ],
   "source": [
    "pollo_asado = {\n",
    "    \"termino\": \"medio\",\n",
    "    \"aliño\": [\"chimi\",\"limon\",\"criolla\"]\n",
    "}\n",
    "\n",
    "print(f\"Su pollo se cocinara a termino {pollo_asado['termino']} \"\n",
    "      \"con los siguientes aliños:\") # forma de partir un print\n",
    "\n",
    "for aliños in pollo_asado[\"aliño\"]:\n",
    "    print(aliños)\n"
   ]
  },
  {
   "cell_type": "code",
   "execution_count": 5,
   "metadata": {},
   "outputs": [
    {
     "name": "stdout",
     "output_type": "stream",
     "text": [
      "Juan conoce estos lenguajes:\n",
      "\tPython\n",
      "\tJava\n",
      "\tCobol\n",
      "Pedro conoce estos lenguajes:\n",
      "\tAssambler\n",
      "\tC\n",
      "Laura conoce estos lenguajes:\n",
      "\tJava Script\n",
      "\tPython\n"
     ]
    }
   ],
   "source": [
    "lenguajes = {\n",
    "    \"Juan\":[\"Python\",\"Java\",\"Cobol\"],\n",
    "    \"Pedro\": [\"Assambler\",\"C\"],\n",
    "    \"Laura\": [\"Java Script\",\"Python\" ] \n",
    "}\n",
    "\n",
    "for nombre,lenguaje in lenguajes.items():\n",
    "    print(f\"{nombre} conoce estos lenguajes:\")\n",
    "    for leng in lenguaje:\n",
    "        print(f\"\\t{leng}\")\n",
    "\n"
   ]
  },
  {
   "cell_type": "code",
   "execution_count": 13,
   "metadata": {},
   "outputs": [
    {
     "name": "stdout",
     "output_type": "stream",
     "text": [
      "Usuario: EmiLiA\n",
      "dict_values(['Emilia', 'Lamas', 'Argentino'])\n",
      "Usuario: Maty\n",
      "dict_values(['Matias', 'Fabregas', 'Español'])\n"
     ]
    }
   ],
   "source": [
    "# Diccionario en un diccionario\n",
    "\n",
    "\n",
    "users = {\n",
    "    \"EmiLiA\" : {\n",
    "        \"Nombre\":\"Emilia\",\n",
    "        \"Apellido\":\"Lamas\",\n",
    "        \"Nacionalidad\":\"Argentino\",\n",
    "    },\n",
    "    \"Maty\" : {\n",
    "        \"Nombre\":\"Matias\",\n",
    "        \"Apellido\":\"Fabregas\",\n",
    "        \"Nacionalidad\":\"Español\",\n",
    "    }\n",
    "}\n",
    "\n",
    "for usuario,datos in users.items():\n",
    "    print(f\"Usuario: {usuario}\")\n",
    "    print(datos.values())\n",
    "\n",
    "    "
   ]
  }
 ],
 "metadata": {
  "kernelspec": {
   "display_name": "Python 3",
   "language": "python",
   "name": "python3"
  },
  "language_info": {
   "codemirror_mode": {
    "name": "ipython",
    "version": 3
   },
   "file_extension": ".py",
   "mimetype": "text/x-python",
   "name": "python",
   "nbconvert_exporter": "python",
   "pygments_lexer": "ipython3",
   "version": "3.12.0"
  }
 },
 "nbformat": 4,
 "nbformat_minor": 2
}

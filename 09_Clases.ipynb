{
 "cells": [
  {
   "cell_type": "markdown",
   "metadata": {},
   "source": [
    "# Clases"
   ]
  },
  {
   "cell_type": "markdown",
   "metadata": {},
   "source": [
    "### Creacion y uso de una clase"
   ]
  },
  {
   "cell_type": "code",
   "execution_count": 2,
   "metadata": {},
   "outputs": [],
   "source": [
    "# Crearemos la clase perro\n",
    "\n",
    "#Cada instancia creada a partir de la clase Dog almacenará un nombre y una edad,\n",
    "# y le daremos a cada perro la capacidad de sit() y roll_over():\n",
    "\n",
    "class Perro:  #por convencion las clases inician en mayuscula. no lleva ()\n",
    "    \"\"\"Modelado simple de un perro\"\"\"\n",
    "\n",
    "    def __init__(self,nombre,edad):\n",
    "        \"\"\"Inicializo los atributos nombre y edad\"\"\"\n",
    "        self.nombre = nombre\n",
    "        self.edad = edad\n",
    "    \n",
    "    def sit(self):\n",
    "        \"\"\"Simula un perro sentado en respuesta a una orden.\"\"\"\n",
    "        print(f\"{self.nombre} esta ahora sentado\")\n",
    "\n",
    "    def roll_over(self):\n",
    "        \"\"\"Simular el desplazamiento en respuesta a un comando\"\"\"\n",
    "        print(f\"{self.nombre} ven aqui!!!\")\n",
    "\n",
    "    \n",
    "\n",
    "\n",
    "    "
   ]
  },
  {
   "cell_type": "code",
   "execution_count": 3,
   "metadata": {},
   "outputs": [],
   "source": [
    "# El metodo __init__()\n",
    "# Una función que forma parte de una clase es un método. Todos los usosde las \n",
    "# funciones también se aplica a los métodos; La única diferencia práctica por \n",
    "#ahora es la forma en que se llama a los métodos.\n",
    "\n",
    "#El método __init__() es un método especial que se ejecuta automáticamente cada \n",
    "# vez que creamos una nueva instancia de la clase. \n",
    "\n",
    "# Definimos el método __init__() para que tenga tres parámetros: self, name y age. \n",
    "# El parámetro self es necesario en la definición del método y debe ir primero. \n",
    "# Debe incluirse en la definición porque cuando Python llame a este método \n",
    "# (para crear una instancia), la llamada al método pasará automáticamente el \n",
    "# argumento self. Cada llamada al método asociada a una instancia pasa \n",
    "# automáticamente self, que es una referencia a la propia instancia; \n",
    "# Proporciona a la instancia individual acceso a los atributos y métodos de la clase.\n",
    "\n",
    "# Cada una de las dos variables definidas en el cuerpo del método __init__() tienen\n",
    "# el prefijo self. Cualquier variable con el prefijo self está disponible para \n",
    "# todos los métodos de la clase, y también podremos acceder a estas variables a \n",
    "# través de cualquier instancia creada a partir de la clase. \n",
    "# Las variables a las que se puede acceder a través de instancias se denominan atributos.\n",
    "\n",
    "\n"
   ]
  },
  {
   "cell_type": "markdown",
   "metadata": {},
   "source": [
    "### Creacion de una instancia a partir de una clase"
   ]
  },
  {
   "cell_type": "code",
   "execution_count": 4,
   "metadata": {},
   "outputs": [
    {
     "name": "stdout",
     "output_type": "stream",
     "text": [
      "El nombre de mi perro es Greta\n",
      "La edad de mi perro es 14\n",
      "Greta esta ahora sentado\n",
      "Greta ven aqui!!!\n"
     ]
    }
   ],
   "source": [
    "# creamos una instancia de un perro especifico\n",
    "\n",
    "mi_perro = Perro(\"Greta\",14)\n",
    "\n",
    "print(f\"El nombre de mi perro es {mi_perro.nombre}\") # Acceso a los atributos\n",
    "print(f\"La edad de mi perro es {mi_perro.edad}\")\n",
    "\n",
    "mi_perro.sit() #Acceso a los metodos\n",
    "mi_perro.roll_over()\n",
    "\n"
   ]
  },
  {
   "cell_type": "code",
   "execution_count": 5,
   "metadata": {},
   "outputs": [
    {
     "name": "stdout",
     "output_type": "stream",
     "text": [
      "Mi perra se llama Greta y tiene 14 años\n",
      "Greta esta ahora sentado\n",
      "Mi perra se llama Matilde y tiene 16 años\n",
      "Matilde ven aqui!!!\n",
      "Mi perra se llama Abril y tiene 10 años\n",
      "Abril esta ahora sentado\n"
     ]
    }
   ],
   "source": [
    "# Creando multiples instancias\n",
    "\n",
    "greta = Perro(\"Greta\",14)\n",
    "matilde = Perro(\"Matilde\",16)\n",
    "abril = Perro(\"Abril\",10)\n",
    "\n",
    "print(f\"Mi perra se llama {greta.nombre} y tiene {greta.edad} años\")\n",
    "greta.sit()\n",
    "\n",
    "print(f\"Mi perra se llama {matilde.nombre} y tiene {matilde.edad} años\")\n",
    "matilde.roll_over()\n",
    "\n",
    "print(f\"Mi perra se llama {abril.nombre} y tiene {abril.edad} años\")\n",
    "abril.sit()\n",
    "\n"
   ]
  },
  {
   "cell_type": "markdown",
   "metadata": {},
   "source": [
    "### Trabajando con clases e instancias"
   ]
  },
  {
   "cell_type": "code",
   "execution_count": 6,
   "metadata": {},
   "outputs": [
    {
     "name": "stdout",
     "output_type": "stream",
     "text": [
      "Jeep\tRenegade\t2024\n"
     ]
    }
   ],
   "source": [
    "\n",
    "class Auto:\n",
    "    #Una representacion simple de un coche\n",
    "\n",
    "    def __init__(self,marca,modelo,año):\n",
    "        self.marca = marca\n",
    "        self.modelo = modelo\n",
    "        self.año = año\n",
    "\n",
    "    def descripcion(self):\n",
    "        desc = f\"{self.marca}\\t{self.modelo}\\t{self.año}\"\n",
    "        return(desc)\n",
    "    \n",
    "mi_auto = Auto(\"Jeep\",\"Renegade\",2024)\n",
    "\n",
    "print(mi_auto.descripcion())\n",
    "\n"
   ]
  },
  {
   "cell_type": "code",
   "execution_count": 7,
   "metadata": {},
   "outputs": [
    {
     "name": "stdout",
     "output_type": "stream",
     "text": [
      "Jeep\tRenegade\t2024\n",
      "Este automovil tiene 0km recorridos\n"
     ]
    }
   ],
   "source": [
    "#Establecer un valor predeterminado para un atributo\n",
    "class Auto:\n",
    "    #Una representacion simple de un coche\n",
    "\n",
    "    def __init__(self,marca,modelo,año):\n",
    "        self.marca = marca\n",
    "        self.modelo = modelo\n",
    "        self.año = año\n",
    "        self.lectura_odometro = 0 #podemos definir atributos sin pasarlos por parametros\n",
    "\n",
    "    def descripcion(self):\n",
    "        desc = f\"{self.marca}\\t{self.modelo}\\t{self.año}\"\n",
    "        return(desc)\n",
    "    \n",
    "    def leer_odometro(self):\n",
    "        \"\"\"muestra el kilometraje del automovil\"\"\"\n",
    "        print(f\"Este automovil tiene {self.lectura_odometro}km recorridos\")\n",
    "    \n",
    "\n",
    "    \n",
    "mi_auto = Auto(\"Jeep\",\"Renegade\",2024)\n",
    "\n",
    "print(mi_auto.descripcion())\n",
    "mi_auto.leer_odometro()\n"
   ]
  },
  {
   "cell_type": "markdown",
   "metadata": {},
   "source": [
    "### Modificando el valor del atributo"
   ]
  },
  {
   "cell_type": "code",
   "execution_count": 8,
   "metadata": {},
   "outputs": [
    {
     "name": "stdout",
     "output_type": "stream",
     "text": [
      "Este automovil tiene 1000km recorridos\n"
     ]
    }
   ],
   "source": [
    "# Modificar el valor de un atributo de manera directa\n",
    "\n",
    "mi_auto.lectura_odometro = 1000\n",
    "mi_auto.leer_odometro()"
   ]
  },
  {
   "cell_type": "code",
   "execution_count": 9,
   "metadata": {},
   "outputs": [
    {
     "name": "stdout",
     "output_type": "stream",
     "text": [
      "Jeep\tRenegade\t2024\n",
      "Este automovil tiene 700km recorridos\n"
     ]
    }
   ],
   "source": [
    "# Modificar el valor de un atributo a través de un método\n",
    "\n",
    "# En lugar de acceder directamente al atributo, se pasa el nuevo valor a un \n",
    "# método que controla la actualización internamente.\n",
    "\n",
    "#Establecer un valor predeterminado para un atributo\n",
    "class Auto:\n",
    "    #Una representacion simple de un coche\n",
    "\n",
    "    def __init__(self,marca,modelo,año):\n",
    "        self.marca = marca\n",
    "        self.modelo = modelo\n",
    "        self.año = año\n",
    "        self.lectura_odometro = 0 #podemos definir atributos sin pasarlos por parametros\n",
    "\n",
    "    def descripcion(self):\n",
    "        desc = f\"{self.marca}\\t{self.modelo}\\t{self.año}\"\n",
    "        return(desc)\n",
    "    \n",
    "    def leer_odometro(self):\n",
    "        \"\"\"muestra el kilometraje del automovil\"\"\"\n",
    "        print(f\"Este automovil tiene {self.lectura_odometro}km recorridos\")\n",
    "    \n",
    "    def actualizar_odometro(self,kilometros):\n",
    "        \"\"\"Ajuste la lectura del odómetro al valor dado\"\"\"\n",
    "        self.lectura_odometro = kilometros\n",
    "\n",
    "    \n",
    "mi_auto = Auto(\"Jeep\",\"Renegade\",2024)\n",
    "\n",
    "print(mi_auto.descripcion())\n",
    "mi_auto.actualizar_odometro(700)\n",
    "mi_auto.leer_odometro()"
   ]
  },
  {
   "cell_type": "code",
   "execution_count": 10,
   "metadata": {},
   "outputs": [
    {
     "name": "stdout",
     "output_type": "stream",
     "text": [
      "Jeep\tRenegade\t2024\n",
      "Este automovil tiene 1000km recorridos\n",
      "Este automovil tiene 1500km recorridos\n"
     ]
    }
   ],
   "source": [
    "# Incrementar el valor de un atributo a través de un método\n",
    "\n",
    "#Establecer un valor predeterminado para un atributo\n",
    "class Auto:\n",
    "    #Una representacion simple de un coche\n",
    "\n",
    "    def __init__(self,marca,modelo,año):\n",
    "        self.marca = marca\n",
    "        self.modelo = modelo\n",
    "        self.año = año\n",
    "        self.capacidad_tanque = 50\n",
    "        self.lectura_odometro = 0 #podemos definir atributos sin pasarlos por parametros\n",
    "\n",
    "    def descripcion(self):\n",
    "        desc = f\"{self.marca}\\t{self.modelo}\\t{self.año}\"\n",
    "        return(desc)\n",
    "    \n",
    "    def nivel_combustible(self):\n",
    "        print(f\"El tanque de combustible es de : {self.capacidad_tanque}\")\n",
    "    \n",
    "    def leer_odometro(self):\n",
    "        \"\"\"muestra el kilometraje del automovil\"\"\"\n",
    "        print(f\"Este automovil tiene {self.lectura_odometro}km recorridos\")\n",
    "    \n",
    "    def actualizar_odometro(self,kilometros):\n",
    "        \"\"\"Ajuste la lectura del odómetro al valor dado\"\"\"\n",
    "        self.lectura_odometro = kilometros\n",
    "\n",
    "    def incrementar_odometro(self,kilometros):\n",
    "        \"\"\"Ajuste la lectura del odómetro al valor dado\"\"\"\n",
    "        self.lectura_odometro = self.lectura_odometro + kilometros\n",
    "    \n",
    "mi_auto = Auto(\"Jeep\",\"Renegade\",2024)\n",
    "\n",
    "print(mi_auto.descripcion())\n",
    "mi_auto.actualizar_odometro(1000)\n",
    "mi_auto.leer_odometro()\n",
    "\n",
    "mi_auto.incrementar_odometro(500)\n",
    "mi_auto.leer_odometro()\n",
    "\n"
   ]
  },
  {
   "cell_type": "markdown",
   "metadata": {},
   "source": [
    "### Herencia\n",
    "\n",
    "###### Cuando una clase hereda de otra, adopta los atributos y métodos de la primera clase. "
   ]
  },
  {
   "cell_type": "code",
   "execution_count": 11,
   "metadata": {},
   "outputs": [
    {
     "name": "stdout",
     "output_type": "stream",
     "text": [
      "Peugeot\t3008\t2024\n"
     ]
    }
   ],
   "source": [
    "# El metodo __init__() para una clase secundaria\n",
    "\n",
    "# Cuando escribes una nueva clase basada en una clase existente, se puede \n",
    "# llamar al método __init__() desde la clase principal. Esto inicializará los \n",
    "# atributos que se definieron en el método principal __init__() y los pondrá a \n",
    "# disposición en la clase secundaria.\n",
    "\n",
    "# vamos a crear una clase auto_electrico a partir de la clase Auto\n",
    "\n",
    "class AutoElectrico(Auto):\n",
    "    \"\"\"Describe un vehículo eléctrico.\"\"\"\n",
    "\n",
    "    def __init__(self, marca, modelo, año):\n",
    "        \"\"\"Inicializa los atributos de la clase principal.\"\"\"\n",
    "        super().__init__(marca, modelo, año)\n",
    "\n",
    "mi_3008 = AutoElectrico(\"Peugeot\",\"3008\",2024)\n",
    "print(mi_3008.descripcion())\n",
    "\n"
   ]
  },
  {
   "cell_type": "code",
   "execution_count": 15,
   "metadata": {},
   "outputs": [
    {
     "name": "stdout",
     "output_type": "stream",
     "text": [
      "Peugeot\t3008\t2024\n",
      "La bateria es de 30kwh\n"
     ]
    }
   ],
   "source": [
    "# definicion de metodos y atributos para la clase secundaria\n",
    "\n",
    "class AutoElectrico(Auto):\n",
    "    \"\"\"Describe un vehículo eléctrico.\"\"\"\n",
    "\n",
    "    def __init__(self, marca, modelo, año):\n",
    "        \"\"\"Inicializa los atributos de la clase principal.\"\"\"\n",
    "        super().__init__(marca, modelo, año)\n",
    "        self.tamaño_bateria = 30\n",
    "\n",
    "    def descripcion_bateria(self):\n",
    "        \"\"\"Describe el tamaño de la bateria\"\"\"\n",
    "        print(f\"La bateria es de {self.tamaño_bateria}kwh\")\n",
    "    \n",
    "mi_3008 = AutoElectrico(\"Peugeot\",\"3008\",2024)\n",
    "print(mi_3008.descripcion())\n",
    "mi_3008.descripcion_bateria()\n",
    "\n",
    "\n",
    "\n",
    "\n"
   ]
  },
  {
   "cell_type": "code",
   "execution_count": 16,
   "metadata": {},
   "outputs": [
    {
     "name": "stdout",
     "output_type": "stream",
     "text": [
      "El tanque de combustible es de : 50\n",
      "Un auto electrico no tiene bateria!!!!\n"
     ]
    }
   ],
   "source": [
    "# Reemplazar métodos de la clase principal\n",
    "# Para invalidar un método de la clase primaria que no se ajuste a lo que está \n",
    "# intentando modelar con la clase secundaria defina un método en la clase secundaria \n",
    "# con el mismo nombre que el método que desea invalidar en la clase principal. \n",
    "# Python ignorará el método de la clase principal y solo prestará atención al \n",
    "# método que defina en la clase secundaria.\n",
    "\n",
    "class AutoElectrico(Auto):\n",
    "    \"\"\"Describe un vehículo eléctrico.\"\"\"\n",
    "\n",
    "    def __init__(self, marca, modelo, año):\n",
    "        \"\"\"Inicializa los atributos de la clase principal.\"\"\"\n",
    "        super().__init__(marca, modelo, año)\n",
    "        self.tamaño_bateria = 30\n",
    "\n",
    "    def descripcion_bateria(self):\n",
    "        \"\"\"Describe el tamaño de la bateria\"\"\"\n",
    "        print(f\"La bateria es de {self.tamaño_bateria}kwh\")\n",
    "    \n",
    "    def nivel_combustible(self):\n",
    "        print(\"Un auto electrico no tiene bateria!!!!\")\n",
    "\n",
    "\n",
    "primer_auto = Auto(\"Jeep\",\"Wrangler\",2024)\n",
    "segundo_auto = AutoElectrico(\"Peugeot\",\"3008\",2023)\n",
    "\n",
    "primer_auto.nivel_combustible()\n",
    "segundo_auto.nivel_combustible()\n",
    "\n",
    "\n",
    "\n"
   ]
  },
  {
   "cell_type": "markdown",
   "metadata": {},
   "source": [
    "### Instancias como atributos"
   ]
  },
  {
   "cell_type": "code",
   "execution_count": 17,
   "metadata": {},
   "outputs": [
    {
     "name": "stdout",
     "output_type": "stream",
     "text": [
      "Audi\tA5\t2024\n",
      "La bateria es de 40kwh\n",
      "Con una bateria de 40 puede recorrer 150 kilometros\n",
      "Con una bateria de 65 puede recorrer 225 kilometros\n"
     ]
    }
   ],
   "source": [
    "\n",
    "# generaremos la clase Bateria y la pasaremos como atributo a la clase Auto_electrico\n",
    "\n",
    "class Bateria:\n",
    "    def __init__(self,tamaño_bateria=40):\n",
    "        self.tamaño_bateria = tamaño_bateria\n",
    "\n",
    "    def descripcion_bateria(self):\n",
    "        \"\"\"Describe el tamaño de la bateria\"\"\"\n",
    "        print(f\"La bateria es de {self.tamaño_bateria}kwh\")\n",
    "\n",
    "    def autonomia(self):\n",
    "        if self.tamaño_bateria == 40:\n",
    "            distancia = 150\n",
    "        elif self.tamaño_bateria == 65:\n",
    "            distancia = 225\n",
    "        print(f\"Con una bateria de {self.tamaño_bateria} puede recorrer {distancia} kilometros\")\n",
    "\n",
    "class AutoElectrico(Auto):\n",
    "    \"\"\"Describe un vehículo eléctrico.\"\"\"\n",
    "\n",
    "    def __init__(self, marca, modelo, año):\n",
    "        \"\"\"Inicializa los atributos de la clase principal.\"\"\"\n",
    "        super().__init__(marca, modelo, año)\n",
    "        self.tamaño_bateria = 30\n",
    "        self.bateria = Bateria() #instanciamos la clase como atributo\n",
    "\n",
    "    def descripcion_bateria(self):\n",
    "        \"\"\"Describe el tamaño de la bateria\"\"\"\n",
    "        print(f\"La bateriaaaa es de {self.tamaño_bateria}kwh\")\n",
    "    \n",
    "    def nivel_combustible(self):\n",
    "        print(\"Un auto electrico no tiene bateria!!!!\")\n",
    "\n",
    "mi_auto = AutoElectrico(\"Audi\",\"A5\",2024)\n",
    "print(mi_auto.descripcion()) # El metodo descripcion lo hereda la clase \n",
    "# Auto_electrico de la clase Auto\n",
    "mi_auto.bateria.descripcion_bateria() # llama al metodo descripcion_bateria()\n",
    "# como un atributo de la clase Auto_electrico(). \n",
    "mi_auto.bateria.autonomia()\n",
    "\n",
    "mi_auto.bateria.tamaño_bateria = 65\n",
    "mi_auto.bateria.autonomia()\n"
   ]
  }
 ],
 "metadata": {
  "kernelspec": {
   "display_name": "Python 3",
   "language": "python",
   "name": "python3"
  },
  "language_info": {
   "codemirror_mode": {
    "name": "ipython",
    "version": 3
   },
   "file_extension": ".py",
   "mimetype": "text/x-python",
   "name": "python",
   "nbconvert_exporter": "python",
   "pygments_lexer": "ipython3",
   "version": "3.12.0"
  }
 },
 "nbformat": 4,
 "nbformat_minor": 2
}

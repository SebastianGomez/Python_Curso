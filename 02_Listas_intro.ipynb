{
 "cells": [
  {
   "cell_type": "markdown",
   "metadata": {},
   "source": [
    "# Introduccion a Listas"
   ]
  },
  {
   "cell_type": "code",
   "execution_count": 2,
   "metadata": {},
   "outputs": [
    {
     "name": "stdout",
     "output_type": "stream",
     "text": [
      "['huevos', 'leche', 'pan', 'queso', 'manzanas']\n"
     ]
    }
   ],
   "source": [
    "# ejemplo de una lista\n",
    "\n",
    "lista_supermercado = [\"huevos\", \"leche\", \"pan\", \"queso\", \"manzanas\"]\n",
    "\n",
    "print(lista_supermercado)"
   ]
  },
  {
   "cell_type": "code",
   "execution_count": 3,
   "metadata": {},
   "outputs": [
    {
     "name": "stdout",
     "output_type": "stream",
     "text": [
      "queso\n"
     ]
    }
   ],
   "source": [
    "#puedo acceder a un elemento particular de la lista, ingresando su indice\n",
    "print(lista_supermercado[3])"
   ]
  },
  {
   "cell_type": "code",
   "execution_count": 4,
   "metadata": {},
   "outputs": [
    {
     "name": "stdout",
     "output_type": "stream",
     "text": [
      "PAN\n",
      "Leche\n"
     ]
    }
   ],
   "source": [
    "#podemos utilizar los metodos vistos antes en las listas\n",
    "print(lista_supermercado[2].upper())\n",
    "print(lista_supermercado[1].title())"
   ]
  },
  {
   "cell_type": "code",
   "execution_count": 5,
   "metadata": {},
   "outputs": [
    {
     "name": "stdout",
     "output_type": "stream",
     "text": [
      "manzanas\n",
      "queso\n"
     ]
    }
   ],
   "source": [
    "#podemos acceder al ultimo elemento de la lista utilizando el indice -1\n",
    "print(lista_supermercado[-1])\n",
    "print(lista_supermercado[-2])"
   ]
  },
  {
   "cell_type": "code",
   "execution_count": 6,
   "metadata": {},
   "outputs": [
    {
     "name": "stdout",
     "output_type": "stream",
     "text": [
      "Hoy en el supermercado compre pan y queso\n"
     ]
    }
   ],
   "source": [
    "#podemos utilizar los elementos de la lista como si fueran variables\n",
    "\n",
    "print(f\"Hoy en el supermercado compre {lista_supermercado[2]} y {lista_supermercado[3]}\")"
   ]
  },
  {
   "cell_type": "code",
   "execution_count": 7,
   "metadata": {},
   "outputs": [
    {
     "name": "stdout",
     "output_type": "stream",
     "text": [
      "['huevos', 'mate cocido', 'pan', 'queso', 'manzanas']\n"
     ]
    }
   ],
   "source": [
    "#cambiar el valor de un elemento de la lista\n",
    "\n",
    "lista_supermercado[1] = \"mate cocido\"\n",
    "print(lista_supermercado)"
   ]
  },
  {
   "cell_type": "markdown",
   "metadata": {},
   "source": [
    "## Agregar elementos a una lista"
   ]
  },
  {
   "cell_type": "code",
   "execution_count": 8,
   "metadata": {},
   "outputs": [
    {
     "name": "stdout",
     "output_type": "stream",
     "text": [
      "['huevos', 'mate cocido', 'pan', 'queso', 'manzanas', 'carne', 'pescado']\n",
      "['galletas', 'huevos', 'leche', 'mate cocido', 'pan', 'queso', 'manzanas', 'carne', 'pescado']\n"
     ]
    }
   ],
   "source": [
    "# metodo append(). Agrega un elemento al final de la lista\n",
    "\n",
    "lista_supermercado.append(\"carne\")\n",
    "lista_supermercado.append(\"pescado\")\n",
    "print(lista_supermercado)\n",
    "#Este metodo es muy util para crear listas de manera dinamica\n",
    "\n",
    "#otro metodo es insert(). Permite agregar un elemento en cualquier posicion (desplaza, no reemplaza)\n",
    "\n",
    "lista_supermercado.insert(0,\"galletas\")\n",
    "lista_supermercado.insert(2,\"leche\")\n",
    "print(lista_supermercado)\n"
   ]
  },
  {
   "cell_type": "code",
   "execution_count": 8,
   "metadata": {},
   "outputs": [
    {
     "name": "stdout",
     "output_type": "stream",
     "text": [
      "[0, 1, 2, 3, 4, 5, 'se', 'agregan', 'elementos', [9, 8, 7, 6]]\n"
     ]
    }
   ],
   "source": [
    "# Agregando los elementos de una lista a otra lista\n",
    "# Metodo extend()\n",
    "\n",
    "lista_A = [0,1,2,3,4,5]\n",
    "lista_B = [\"se\", \"agregan\",\"elementos\",[9,8,7,6]]\n",
    "\n",
    "lista_A.extend(lista_B)\n",
    "\n",
    "print(lista_A)\n"
   ]
  },
  {
   "cell_type": "code",
   "execution_count": 9,
   "metadata": {},
   "outputs": [
    {
     "name": "stdout",
     "output_type": "stream",
     "text": [
      "[0, 1, 2, 'tres', 4, 5, 'se', 'agregan', 'elementos', [9, 8, 7, 6]]\n",
      "[0, 1, 2, 'tres', 4, 5, 'se', 'agregan', 'elementos', [9, 8, 'siete', 6]]\n"
     ]
    }
   ],
   "source": [
    "# Reemplazar elementos\n",
    "\n",
    "lista_A[3]=\"tres\"\n",
    "print(lista_A)\n",
    "\n",
    "lista_A[9][2]=\"siete\"\n",
    "print(lista_A)"
   ]
  },
  {
   "cell_type": "markdown",
   "metadata": {},
   "source": [
    "## Removiendo elementos de una lista"
   ]
  },
  {
   "cell_type": "code",
   "execution_count": 9,
   "metadata": {},
   "outputs": [
    {
     "name": "stdout",
     "output_type": "stream",
     "text": [
      "['galletas', 'huevos', 'mate cocido', 'pan', 'queso', 'manzanas', 'carne', 'pescado']\n"
     ]
    }
   ],
   "source": [
    "# eliminando un elemento de la lista usando la declaracion \"del\"\n",
    "\n",
    "del lista_supermercado[2]\n",
    "print(lista_supermercado)"
   ]
  },
  {
   "cell_type": "code",
   "execution_count": 11,
   "metadata": {},
   "outputs": [
    {
     "name": "stdout",
     "output_type": "stream",
     "text": [
      "['galletas', 'huevos', 'leche', 'mate cocido', 'pan', 'queso', 'manzanas', 'carne', 'pescado']\n",
      "['galletas', 'huevos', 'leche', 'mate cocido', 'pan', 'queso', 'manzanas', 'carne']\n",
      "pescado\n"
     ]
    }
   ],
   "source": [
    "#Eliminar un elemento usando el metodo pop()\n",
    "#Este metodo permite eliminar el ultimo elemento de la lista pero seguir utilizandolo\n",
    "\n",
    "lista_supermercado = ['galletas', 'huevos', 'leche', 'mate cocido', 'pan', 'queso', 'manzanas', 'carne', 'pescado']\n",
    "print(lista_supermercado)\n",
    "\n",
    "eliminado = lista_supermercado.pop()\n",
    "print(lista_supermercado)\n",
    "print(eliminado)"
   ]
  },
  {
   "cell_type": "code",
   "execution_count": 12,
   "metadata": {},
   "outputs": [
    {
     "name": "stdout",
     "output_type": "stream",
     "text": [
      "['galletas', 'huevos', 'leche', 'mate cocido', 'pan', 'queso', 'manzanas', 'carne', 'pescado']\n",
      "Fui al supermercado y no encontre queso\n"
     ]
    }
   ],
   "source": [
    "#podemos utilizar el metodo pop() para eliminar cualquier elemento de la lista\n",
    "lista_supermercado = ['galletas', 'huevos', 'leche', 'mate cocido', 'pan', 'queso', 'manzanas', 'carne', 'pescado']\n",
    "print(lista_supermercado)\n",
    "eliminado = lista_supermercado.pop(5)\n",
    "print(f\"Fui al supermercado y no encontre {eliminado}\")"
   ]
  },
  {
   "cell_type": "markdown",
   "metadata": {},
   "source": [
    "Usamos del cuando no vamos a volver a utilizar el valor que removemos de la lista.\n",
    "Usamos pop() cuando queremos seguir usando el valor que removemos."
   ]
  },
  {
   "cell_type": "code",
   "execution_count": 11,
   "metadata": {},
   "outputs": [
    {
     "name": "stdout",
     "output_type": "stream",
     "text": [
      "['galletas', 'huevos', 'leche', 'mate cocido', 'pan', 'queso', 'manzanas', 'carne', 'pescado']\n",
      "['galletas', 'huevos', 'leche', 'pan', 'queso', 'manzanas', 'carne', 'pescado']\n"
     ]
    }
   ],
   "source": [
    "# metodo remove(). Lo utilizamos para eliminar una variable de la cual no sabemos la ubicacion\n",
    "lista_supermercado = ['galletas', 'huevos', 'leche', 'mate cocido', 'pan', 'queso', 'manzanas', 'carne', 'pescado']\n",
    "print(lista_supermercado)\n",
    "lista_supermercado.remove(\"mate cocido\")\n",
    "print(lista_supermercado)\n",
    "#Este metodo elimina solo la primera coincidencia"
   ]
  },
  {
   "cell_type": "code",
   "execution_count": 12,
   "metadata": {},
   "outputs": [
    {
     "name": "stdout",
     "output_type": "stream",
     "text": [
      "['galletas', 'huevos', 'leche', 'pan', 'queso', 'manzanas', 'carne', 'pescado']\n",
      "[]\n"
     ]
    }
   ],
   "source": [
    "# metodo clear(). Elimina todos los elementos de una lista\n",
    "\n",
    "print(lista_supermercado)\n",
    "\n",
    "lista_supermercado.clear()\n",
    "\n",
    "print(lista_supermercado)\n"
   ]
  },
  {
   "cell_type": "markdown",
   "metadata": {},
   "source": [
    "## Organizando elementos de una lista"
   ]
  },
  {
   "cell_type": "code",
   "execution_count": 3,
   "metadata": {},
   "outputs": [
    {
     "name": "stdout",
     "output_type": "stream",
     "text": [
      "['galletas', 'huevos', 'leche', 'mate cocido', 'pan', 'queso', 'manzanas', 'carne', 'pescado']\n",
      "['carne', 'galletas', 'huevos', 'leche', 'manzanas', 'mate cocido', 'pan', 'pescado', 'queso']\n",
      "['queso', 'pescado', 'pan', 'mate cocido', 'manzanas', 'leche', 'huevos', 'galletas', 'carne']\n"
     ]
    }
   ],
   "source": [
    "#Ordenar una lista de manera permanente. Metodo sort()\n",
    "lista_supermercado = ['galletas', 'huevos', 'leche', 'mate cocido', 'pan', 'queso', 'manzanas', 'carne', 'pescado']\n",
    "print(lista_supermercado)\n",
    "lista_supermercado.sort() #ordena en orden alfabetico\n",
    "print(lista_supermercado)\n",
    "#tambien podemos ordenrlas en forma inversa\n",
    "lista_supermercado.sort(reverse=True)\n",
    "print(lista_supermercado)\n"
   ]
  },
  {
   "cell_type": "code",
   "execution_count": 5,
   "metadata": {},
   "outputs": [
    {
     "name": "stdout",
     "output_type": "stream",
     "text": [
      "['galletas', 'huevos', 'leche', 'mate cocido', 'pan', 'queso', 'manzanas', 'carne', 'pescado']\n",
      "['carne', 'galletas', 'huevos', 'leche', 'manzanas', 'mate cocido', 'pan', 'pescado', 'queso']\n",
      "['queso', 'pescado', 'pan', 'mate cocido', 'manzanas', 'leche', 'huevos', 'galletas', 'carne']\n",
      "['galletas', 'huevos', 'leche', 'mate cocido', 'pan', 'queso', 'manzanas', 'carne', 'pescado']\n"
     ]
    }
   ],
   "source": [
    "#Ordenar una lista de manera temporal. Funcion sorted()\n",
    "lista_supermercado = ['galletas', 'huevos', 'leche', 'mate cocido', 'pan', 'queso', 'manzanas', 'carne', 'pescado']\n",
    "print(lista_supermercado)\n",
    "print(sorted(lista_supermercado))\n",
    "print(sorted(lista_supermercado,reverse=True))\n",
    "print(lista_supermercado)"
   ]
  },
  {
   "cell_type": "code",
   "execution_count": 6,
   "metadata": {},
   "outputs": [
    {
     "name": "stdout",
     "output_type": "stream",
     "text": [
      "['galletas', 'huevos', 'leche', 'mate cocido', 'pan', 'queso', 'manzanas', 'carne', 'pescado']\n",
      "['pescado', 'carne', 'manzanas', 'queso', 'pan', 'mate cocido', 'leche', 'huevos', 'galletas']\n"
     ]
    }
   ],
   "source": [
    "#Ordenar una lista en forma inversa. Metodo reverse()\n",
    "lista_supermercado = ['galletas', 'huevos', 'leche', 'mate cocido', 'pan', 'queso', 'manzanas', 'carne', 'pescado']\n",
    "print(lista_supermercado)\n",
    "lista_supermercado.reverse()\n",
    "print(lista_supermercado)"
   ]
  },
  {
   "cell_type": "code",
   "execution_count": 8,
   "metadata": {},
   "outputs": [
    {
     "name": "stdout",
     "output_type": "stream",
     "text": [
      "Hay 9 elementos en la lista\n"
     ]
    }
   ],
   "source": [
    "#Averiguar el tamaño de una lista. La funcion len()\n",
    "print(f\"Hay {len(lista_supermercado)} elementos en la lista\")"
   ]
  }
 ],
 "metadata": {
  "kernelspec": {
   "display_name": "Python 3",
   "language": "python",
   "name": "python3"
  },
  "language_info": {
   "codemirror_mode": {
    "name": "ipython",
    "version": 3
   },
   "file_extension": ".py",
   "mimetype": "text/x-python",
   "name": "python",
   "nbconvert_exporter": "python",
   "pygments_lexer": "ipython3",
   "version": "3.12.0"
  },
  "orig_nbformat": 4
 },
 "nbformat": 4,
 "nbformat_minor": 2
}
